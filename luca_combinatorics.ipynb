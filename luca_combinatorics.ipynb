{
  "nbformat": 4,
  "nbformat_minor": 0,
  "metadata": {
    "colab": {
      "provenance": [],
      "authorship_tag": "ABX9TyMQvM9vsFzscjvNG0JN6BX3",
      "include_colab_link": true
    },
    "kernelspec": {
      "name": "python3",
      "display_name": "Python 3"
    },
    "language_info": {
      "name": "python"
    }
  },
  "cells": [
    {
      "cell_type": "markdown",
      "metadata": {
        "id": "view-in-github",
        "colab_type": "text"
      },
      "source": [
        "<a href=\"https://colab.research.google.com/github/lucabmanning/563-luca/blob/main/luca_combinatorics.ipynb\" target=\"_parent\"><img src=\"https://colab.research.google.com/assets/colab-badge.svg\" alt=\"Open In Colab\"/></a>"
      ]
    },
    {
      "cell_type": "markdown",
      "source": [
        "# **Question 1: Number of Configurations**"
      ],
      "metadata": {
        "id": "fBqp1jHtH7QL"
      }
    },
    {
      "cell_type": "markdown",
      "source": [
        "\n",
        "\n",
        "---\n",
        "\n"
      ],
      "metadata": {
        "id": "J-Hrmz2HRQab"
      }
    },
    {
      "cell_type": "markdown",
      "source": [
        "1. Consider a system A consisting of subsystems $A_{1}$: and $A_{2}$:, for which $Ω_{1}$= $10^{20}$ and Ω2= $10^{22}$  What is the number of configurations available to the combined system? Also compute the entropies $S$, $S_{1}$ and $S_{2}$.\n",
        "\n"
      ],
      "metadata": {
        "id": "dQv44FsZ_B4U"
      }
    },
    {
      "cell_type": "code",
      "source": [
        "import numpy as np\n",
        "\n",
        "#Constants\n",
        "k_B = 1.38e-23  # Boltzmann constant in J/K\n",
        "\n",
        "# Given values\n",
        "Omega_1 = float(10**20)\n",
        "Omega_2 = float(10**22)\n",
        "\n",
        "# Number of configurations for the combined system\n",
        "Omega_A = Omega_1 * Omega_2\n",
        "\n",
        "# Entropies\n",
        "S1 = k_B * np.log(Omega_1)  # Entropy of subsystem A1\n",
        "S2 = k_B * np.log(Omega_2)  # Entropy of subsystem A2\n",
        "S = k_B * np.log(Omega_A)   # Entropy of combined system A\n",
        "\n",
        "# Print results\n",
        "print(\"Number of configurations for the combined system (Ω_A):\", Omega_A)\n",
        "print(\"Entropy of subsystem A1 (S1): {:.3e} J/K\".format(S1))\n",
        "print(\"Entropy of subsystem A2 (S2): {:.3e} J/K\".format(S2))\n",
        "print(\"Entropy of the combined system (S): {:.3e} J/K\".format(S))\n"
      ],
      "metadata": {
        "colab": {
          "base_uri": "https://localhost:8080/"
        },
        "id": "sJV8FUF2OJ9r",
        "outputId": "b3aa283b-bb93-4dcd-8ad4-1dfe2e1d5460"
      },
      "execution_count": 10,
      "outputs": [
        {
          "output_type": "stream",
          "name": "stdout",
          "text": [
            "Number of configurations for the combined system (Ω_A): 1e+42\n",
            "Entropy of subsystem A1 (S1): 6.355e-22 J/K\n",
            "Entropy of subsystem A2 (S2): 6.991e-22 J/K\n",
            "Entropy of the combined system (S): 1.335e-21 J/K\n"
          ]
        }
      ]
    },
    {
      "cell_type": "markdown",
      "source": [
        "\n",
        "\n",
        "---\n",
        "\n"
      ],
      "metadata": {
        "id": "oEWZGDHdRNlo"
      }
    },
    {
      "cell_type": "markdown",
      "source": [
        "2. By what factor does the number of available configurations increase when 10 $m^3$ of air at 1 atm and 300 K is allowed to expand by 0.001% at constant temperature?"
      ],
      "metadata": {
        "id": "zqh7JXLsH1Bh"
      }
    },
    {
      "cell_type": "code",
      "source": [
        "# Initial and final volumes\n",
        "V_initial = 10  # Initial volume in m^3\n",
        "percentage_increase = 0.001 / 100  # Convert percentage to fraction\n",
        "V_final = V_initial * (1 + percentage_increase)  # Final volume after expansion\n",
        "\n",
        "# Calculate the factor of increase\n",
        "factor_increase = V_final / V_initial\n",
        "\n",
        "# Print results\n",
        "print(f\"Initial Volume (V_initial): {V_initial} m^3\")\n",
        "print(f\"Final Volume (V_final): {V_final:.6f} m^3\")\n",
        "print(f\"Factor of increase in configurations: {factor_increase:.6f}\")"
      ],
      "metadata": {
        "colab": {
          "base_uri": "https://localhost:8080/"
        },
        "id": "Y22aOB6-PAY7",
        "outputId": "55597d0f-fe1b-4bda-d28f-4016749760ea"
      },
      "execution_count": 11,
      "outputs": [
        {
          "output_type": "stream",
          "name": "stdout",
          "text": [
            "Initial Volume (V_initial): 10 m^3\n",
            "Final Volume (V_final): 10.000100 m^3\n",
            "Factor of increase in configurations: 1.000010\n"
          ]
        }
      ]
    },
    {
      "cell_type": "markdown",
      "source": [
        "3. By what factor does the number of available configurations increase when 150 kJ is added to a system containing 2.0 mol of particles at constant volume and T = 300 K?"
      ],
      "metadata": {
        "id": "ertl1gppIqGE"
      }
    },
    {
      "cell_type": "code",
      "source": [
        "#Constants\n",
        "q = 150e3       # Heat added in J\n",
        "T = 300         # Temperature in K\n",
        "\n",
        "# Calculate change in entropy\n",
        "delta_S = q / T  # in J/K\n",
        "\n",
        "# Calculate the logarithm of the factor of increase\n",
        "log_factor = delta_S / k_B\n",
        "# Print results\n",
        "print(f\"Change in entropy (ΔS): {delta_S:.2e} J/K\")\n",
        "print(f\"Logarithm of factor of increase in configurations: {log_factor:.2e}\")\n",
        "print(f\"Factor of increase in configurations (approximation): 10^{log_factor / np.log(10):.2e}\")"
      ],
      "metadata": {
        "colab": {
          "base_uri": "https://localhost:8080/"
        },
        "id": "lJi1UO0hQCPf",
        "outputId": "4a2984e5-a562-43aa-88cd-ef0703c30f20"
      },
      "execution_count": 12,
      "outputs": [
        {
          "output_type": "stream",
          "name": "stdout",
          "text": [
            "Change in entropy (ΔS): 5.00e+02 J/K\n",
            "Logarithm of factor of increase in configurations: 3.62e+25\n",
            "Factor of increase in configurations (approximation): 10^1.57e+25\n"
          ]
        }
      ]
    },
    {
      "cell_type": "markdown",
      "source": [
        "4. A sample consisting of five molecules has a total energy 5e. Each molecule is able to occupy states of energy ∈j, with j = 0, 1, 2,..., ∞. Draw up a table with columns by the energy of the states and write beneath them all configurations that are consistent with the total energy. Identify the type of configuration that is most probable."
      ],
      "metadata": {
        "id": "X6T6sDBbJcyt"
      }
    },
    {
      "cell_type": "code",
      "source": [
        "from itertools import combinations_with_replacement\n",
        "\n",
        "# Total energy and number of molecules\n",
        "total_energy = 5  # in units of ε\n",
        "num_molecules = 5\n",
        "\n",
        "# Generate all possible distributions of energy states\n",
        "def find_configurations(total_energy, num_molecules):\n",
        "    states = []\n",
        "    for combo in combinations_with_replacement(range(total_energy + 1), num_molecules):\n",
        "        if sum(combo) == total_energy:\n",
        "            states.append(combo)\n",
        "    return states\n",
        "\n",
        "# Calculate degeneracy of each configuration\n",
        "def calculate_degeneracy(configurations):\n",
        "    from collections import Counter\n",
        "    degeneracies = {}\n",
        "    for config in configurations:\n",
        "        count = Counter(config)\n",
        "        deg = factorial(len(config))\n",
        "        for value in count.values():\n",
        "            deg //= factorial(value)\n",
        "        degeneracies[tuple(sorted(config))] = deg\n",
        "    return degeneracies\n",
        "\n",
        "# Factorial function\n",
        "def factorial(n):\n",
        "    if n == 0 or n == 1:\n",
        "        return 1\n",
        "    return n * factorial(n - 1)\n",
        "\n",
        "# Find configurations and calculate degeneracies\n",
        "configs = find_configurations(total_energy, num_molecules)\n",
        "degeneracies = calculate_degeneracy(configs)\n",
        "\n",
        "# Display results\n",
        "print(\"Configuration | Degeneracy\")\n",
        "print(\"--------------------------\")\n",
        "for config, degeneracy in degeneracies.items():\n",
        "    print(f\"{config} | {degeneracy}\")\n"
      ],
      "metadata": {
        "colab": {
          "base_uri": "https://localhost:8080/"
        },
        "id": "XgmQVrRlSDFu",
        "outputId": "409180bd-3d5b-4356-ef61-ac763dfffcb6"
      },
      "execution_count": 13,
      "outputs": [
        {
          "output_type": "stream",
          "name": "stdout",
          "text": [
            "Configuration | Degeneracy\n",
            "--------------------------\n",
            "(0, 0, 0, 0, 5) | 5\n",
            "(0, 0, 0, 1, 4) | 20\n",
            "(0, 0, 0, 2, 3) | 20\n",
            "(0, 0, 1, 1, 3) | 30\n",
            "(0, 0, 1, 2, 2) | 30\n",
            "(0, 1, 1, 1, 2) | 20\n",
            "(1, 1, 1, 1, 1) | 1\n"
          ]
        }
      ]
    },
    {
      "cell_type": "markdown",
      "source": [
        "The most probable configurations are [2,2,0,1,0,0] and [2,1,2,0,0,0], both with the highest degeneracy of 30."
      ],
      "metadata": {
        "id": "eU34RN0UTweV"
      }
    }
  ]
}