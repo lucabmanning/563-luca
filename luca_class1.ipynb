{
  "nbformat": 4,
  "nbformat_minor": 0,
  "metadata": {
    "colab": {
      "provenance": [],
      "include_colab_link": true
    },
    "kernelspec": {
      "name": "python3",
      "display_name": "Python 3"
    },
    "language_info": {
      "name": "python"
    }
  },
  "cells": [
    {
      "cell_type": "markdown",
      "metadata": {
        "id": "view-in-github",
        "colab_type": "text"
      },
      "source": [
        "<a href=\"https://colab.research.google.com/github/lucabmanning/563-luca/blob/main/luca_class1.ipynb\" target=\"_parent\"><img src=\"https://colab.research.google.com/assets/colab-badge.svg\" alt=\"Open In Colab\"/></a>"
      ]
    },
    {
      "cell_type": "code",
      "execution_count": 26,
      "metadata": {
        "colab": {
          "base_uri": "https://localhost:8080/"
        },
        "id": "GLsxlvBxtl8u",
        "outputId": "924e81c0-e767-474a-c670-4c446d61ee96"
      },
      "outputs": [
        {
          "output_type": "stream",
          "name": "stdout",
          "text": [
            "hello world!\n"
          ]
        }
      ],
      "source": [
        "# I am trying to figure out how many ways we can fit 20 particles in a volume of 4-billion by 4-billion\n",
        "print(\"hello world!\")\n",
        "a = 20\n",
        "b = [1,23,\"string!\"] #shift+return runs the cell!"
      ]
    },
    {
      "cell_type": "code",
      "source": [
        "print(b)"
      ],
      "metadata": {
        "colab": {
          "base_uri": "https://localhost:8080/"
        },
        "id": "Sq2IQpxpuIir",
        "outputId": "02db19f1-f6f7-48fd-fcd8-d98d4f184689"
      },
      "execution_count": 27,
      "outputs": [
        {
          "output_type": "stream",
          "name": "stdout",
          "text": [
            "[1, 23, 'string!']\n"
          ]
        }
      ]
    },
    {
      "cell_type": "code",
      "source": [
        "# OK, now i'm really going to work on the problem!\n",
        "# code development loop: try stuff, commit, and try stuff again.\n",
        "places_can_sit = (4*10**9)**2"
      ],
      "metadata": {
        "id": "g6k2c80cuNgS"
      },
      "execution_count": 28,
      "outputs": []
    },
    {
      "cell_type": "code",
      "source": [
        "print(places_can_sit**20)\n",
        "print(\"such a big number! four billion squared to the twentieth\")"
      ],
      "metadata": {
        "id": "DuHoRFXjxdaj",
        "outputId": "21a41255-e959-447e-ba08-64b442d9e895",
        "colab": {
          "base_uri": "https://localhost:8080/"
        }
      },
      "execution_count": 40,
      "outputs": [
        {
          "output_type": "stream",
          "name": "stdout",
          "text": [
            "1208925819614629174706176000000000000000000000000000000000000000000000000000000000000000000000000000000000000000000000000000000000000000000000000000000000000000000000000000000000000000000000000000000000000000000000000000000000000000000000000000000000000000000000000000000000000000000000000000000000000000000000000000000000000000000000000000000000000000000000000000000000000000000000000\n",
            "such a big number! four billion squared to the twentieth\n"
          ]
        }
      ]
    },
    {
      "cell_type": "code",
      "source": [
        "# How many years will it take to evaluate these configurations with 2.67 billion evaluations per second?\n",
        "m1 = 267*10**7\n",
        "n=(places_can_sit**20)"
      ],
      "metadata": {
        "id": "yvTfxALZz1K4"
      },
      "execution_count": 58,
      "outputs": []
    },
    {
      "cell_type": "code",
      "source": [
        "# we don't have enough bits to represent \"places_can_sit**20\" in a function as shown below(Error = OverflowError: int too large to convert to float)"
      ],
      "metadata": {
        "id": "unkyQWYV2iy1"
      },
      "execution_count": 59,
      "outputs": []
    },
    {
      "cell_type": "code",
      "source": [
        "sec = n//(267*10**7) #seconds\n",
        "min = sec//60\n",
        "hours = min//60\n",
        "days = hours//24\n",
        "years = days// 365\n",
        "print(years)"
      ],
      "metadata": {
        "id": "eyzoDNME6lj-",
        "outputId": "98b1f159-b3bb-40ab-ad97-4d0d34cb1a23",
        "colab": {
          "base_uri": "https://localhost:8080/"
        }
      },
      "execution_count": 69,
      "outputs": [
        {
          "output_type": "stream",
          "name": "stdout",
          "text": [
            "14357597851603745588018021613014173683200413486186407021664319904533336373672939267316159214984313747845634357357716856972923875596904174196257721987546008889192922849482287171477053986930340118991291327241252847943115245972975181327754310156444474847840503784272703260954248589567454684688279680840349867080152853073688330986571200003040339605933982825881650980414512\n"
          ]
        }
      ]
    },
    {
      "cell_type": "code",
      "source": [
        "n//(267*10**7)//3600//24//365//(10**367)"
      ],
      "metadata": {
        "id": "2yEQUeOl57IA",
        "outputId": "fe38b327-87bb-4590-dd8e-d584a8d4aa3e",
        "colab": {
          "base_uri": "https://localhost:8080/"
        }
      },
      "execution_count": 68,
      "outputs": [
        {
          "output_type": "execute_result",
          "data": {
            "text/plain": [
              "1"
            ]
          },
          "metadata": {},
          "execution_count": 68
        }
      ]
    }
  ]
}