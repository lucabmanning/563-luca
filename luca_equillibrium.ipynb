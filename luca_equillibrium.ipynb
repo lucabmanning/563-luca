{
  "nbformat": 4,
  "nbformat_minor": 0,
  "metadata": {
    "colab": {
      "provenance": [],
      "authorship_tag": "ABX9TyPbsTexbVSip3z9d0dECm7A",
      "include_colab_link": true
    },
    "kernelspec": {
      "name": "python3",
      "display_name": "Python 3"
    },
    "language_info": {
      "name": "python"
    }
  },
  "cells": [
    {
      "cell_type": "markdown",
      "metadata": {
        "id": "view-in-github",
        "colab_type": "text"
      },
      "source": [
        "<a href=\"https://colab.research.google.com/github/lucabmanning/563-luca/blob/main/luca_equillibrium.ipynb\" target=\"_parent\"><img src=\"https://colab.research.google.com/assets/colab-badge.svg\" alt=\"Open In Colab\"/></a>"
      ]
    },
    {
      "cell_type": "markdown",
      "source": [
        "2.8. Show that the combinations formula for $$\\ln {_nC_k}$$\n",
        "can be expressed as $$−n[xlnx+(1−x)ln(1−x)]$$\n",
        "where $$ x \\equiv \\frac{k}{n} $$\n",
        "You will need to employ Stirling’s approximation."
      ],
      "metadata": {
        "id": "zB_hJ3aQnpBH"
      }
    },
    {
      "cell_type": "code",
      "execution_count": 2,
      "metadata": {
        "colab": {
          "base_uri": "https://localhost:8080/"
        },
        "id": "ATkUM0i8nU6e",
        "outputId": "51f6909d-df80-4de7-b403-fc8a70d41ef5"
      },
      "outputs": [
        {
          "output_type": "stream",
          "name": "stdout",
          "text": [
            "Exact ln(C(n, k)) = 4.78749, Approximated ln(C(n, k)) = 6.10864\n"
          ]
        }
      ],
      "source": [
        "import math\n",
        "\n",
        "def stirling_ln_factorial(n):\n",
        "    \"\"\"\n",
        "    Approximate the natural logarithm of n! using Stirling's approximation.\n",
        "    \"\"\"\n",
        "    return n * math.log(n) - n\n",
        "\n",
        "def combination_ln(n, k):\n",
        "    \"\"\"\n",
        "    Calculate ln(n choose k) using Stirling's approximation.\n",
        "    \"\"\"\n",
        "    x = k / n\n",
        "    return -n * (x * math.log(x) + (1 - x) * math.log(1 - x))\n",
        "\n",
        "def verify_combination_ln(n, k):\n",
        "    \"\"\"\n",
        "    Compare the exact and approximated values of ln(n choose k).\n",
        "    \"\"\"\n",
        "    exact_ln_comb = math.log(math.comb(n, k))\n",
        "    approx_ln_comb = combination_ln(n, k)\n",
        "    return exact_ln_comb, approx_ln_comb\n",
        "\n",
        "# Example usage\n",
        "n, k = 10, 3\n",
        "exact_ln_Cnk, approx_ln_Cnk = verify_combination_ln(n, k)\n",
        "print(f\"Exact ln(C(n, k)) = {exact_ln_Cnk:.5f}, Approximated ln(C(n, k)) = {approx_ln_Cnk:.5f}\")\n"
      ]
    }
  ]
}