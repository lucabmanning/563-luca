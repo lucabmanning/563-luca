{
  "nbformat": 4,
  "nbformat_minor": 0,
  "metadata": {
    "colab": {
      "provenance": [],
      "authorship_tag": "ABX9TyMTFzwNmcWyBRUA42ImForc",
      "include_colab_link": true
    },
    "kernelspec": {
      "name": "python3",
      "display_name": "Python 3"
    },
    "language_info": {
      "name": "python"
    }
  },
  "cells": [
    {
      "cell_type": "markdown",
      "metadata": {
        "id": "view-in-github",
        "colab_type": "text"
      },
      "source": [
        "<a href=\"https://colab.research.google.com/github/lucabmanning/563-luca/blob/main/luca_lattice_mc.ipynb\" target=\"_parent\"><img src=\"https://colab.research.google.com/assets/colab-badge.svg\" alt=\"Open In Colab\"/></a>"
      ]
    },
    {
      "cell_type": "markdown",
      "source": [
        "# Week 3: Monte Carlo Code"
      ],
      "metadata": {
        "id": "WO9x3z7q73tV"
      }
    },
    {
      "cell_type": "markdown",
      "source": [
        "**Python notebook that:**\n",
        "1.   Can perform NVT simulations of square-lattice particles.\n",
        "2.   Obeys detailed balance.\n",
        "3. Uses periodic boundary conditions.\n",
        "4.   Demonstrates a temperature below which you observe particles clustering together.\n",
        "5.   Includes some measurements of which system sizes are too large to be practical on google colab."
      ],
      "metadata": {
        "id": "qfFkbJvp5-wh"
      }
    },
    {
      "cell_type": "markdown",
      "source": [
        "\n",
        "\n",
        "---\n",
        "\n"
      ],
      "metadata": {
        "id": "bplV3c7g8FrK"
      }
    },
    {
      "source": [
        "import numpy as np\n",
        "import matplotlib.pyplot as plt\n",
        "import random\n",
        "\n",
        "# GRID\n",
        "class Grid():\n",
        "# needs a size and have particles that sit in it\n",
        "# a helper function that gives me neighbors of a site will be helpful\n",
        "# grid class defines a blueprint for creating objects representing the\n",
        "    # simulation grid.\n",
        "    def __init__(self,L,N):\n",
        "# def will define a new function\n",
        "# the two underscores before and after init means dunder?\n",
        "# __init__ is a special method called the constructor.\n",
        "#  It's executed automatically when you create a new Grid object.\n",
        "        self.sites = np.zeros((L,L)) # Use np.zeros instead of numpy.zeros\n",
        "# need to put N particles in the system\n",
        "        self.N = N\n",
        "# stores the number of particles in the grid object\n",
        "        self.particles = []\n",
        "# initializes empty list to store particle objects\n",
        "        # The for loop was outside the __init__ method\n",
        "        # Indenting it to be part of the __init__ method\n",
        "        for i in range(self.N):\n",
        "            self.particles.append(particle(self))\n",
        "            self.particles[-1].location = [0,0]\n",
        "        # self.lattice = np.random.choice([-1, 1], size=(L, L))\n",
        "\n",
        "    def display(self):\n",
        "        plt.imshow(self.lattice, cmap='gray')\n",
        "        plt.axis('off')\n",
        "        plt.show()\n",
        "\n",
        "# PARTICLES\n",
        "class particle():\n",
        "# Calculate distances\n",
        "    def __init__(self,system):\n",
        "      self.system = system\n",
        "      self.location = [0,0]\n",
        "\n",
        "    def get_neighbors(self):\n",
        "      for d in [ (1,0), (0,-1), (-1,0), (0,1)]:\n",
        "  #up, down, left, right\n",
        "        new_location = [self.location[0] + d[0], self.location[1] + d[1]]\n",
        "        print (d + tuple(self.location))\n",
        "# Alternatively, convert d to a list:\n",
        "        # print(list(d) + self.location)\n",
        "\n",
        "# CALCULATE ENERGY OF A CONFIGURATION (microstate)\n",
        "    def calculate_energy(self):\n",
        "        energy = 0\n",
        "        for particle in self.particles:\n",
        "            x, y = particle.location\n",
        "            for dx, dy in [(1, 0), (0, 1)]:  # Check neighbors to the right and down\n",
        "                nx, ny = (x + dx) % self.sites.shape[0], (y + dy) % self.sites.shape[1]  # Periodic boundary conditions\n",
        "                neighbor = self.find_particle_at_location([nx, ny]) #Find particle at the neighbor location\n",
        "                if neighbor:\n",
        "                    energy -= particle.spin * neighbor.spin  # Ising-like interaction\n",
        "        return energy/2 #Avoid double counting\n",
        "\n",
        "    def find_particle_at_location(self, location):\n",
        "        for particle in self.particles:\n",
        "            if particle.location == location:\n",
        "                return particle\n",
        "        return None #If location is empty"
      ],
      "cell_type": "code",
      "metadata": {
        "id": "TMBH0V-tCxZY"
      },
      "execution_count": 72,
      "outputs": []
    },
    {
      "cell_type": "code",
      "source": [
        "# tests\n",
        "sample_system = Grid(10, 20)\n",
        "# sample_system.display()\n",
        "print(sample_system.N)\n",
        "print(sample_system.sites)\n",
        "print(sample_system.particles[-1].get_neighbors())\n",
        "\n",
        "grid = Grid(L=10, N=20)  # Create a 10x10 grid with 20 particles\n",
        "# energy = grid.calculate_energy()  # Calculate the energy of the current configuration\n",
        "# print(f\"Energy of the configuration: {energy}\")"
      ],
      "metadata": {
        "colab": {
          "base_uri": "https://localhost:8080/"
        },
        "id": "vjEX2V33ynQ0",
        "outputId": "daf24c9f-7e1c-4019-c2e4-132eea87289c"
      },
      "execution_count": 74,
      "outputs": [
        {
          "output_type": "stream",
          "name": "stdout",
          "text": [
            "20\n",
            "[[0. 0. 0. 0. 0. 0. 0. 0. 0. 0.]\n",
            " [0. 0. 0. 0. 0. 0. 0. 0. 0. 0.]\n",
            " [0. 0. 0. 0. 0. 0. 0. 0. 0. 0.]\n",
            " [0. 0. 0. 0. 0. 0. 0. 0. 0. 0.]\n",
            " [0. 0. 0. 0. 0. 0. 0. 0. 0. 0.]\n",
            " [0. 0. 0. 0. 0. 0. 0. 0. 0. 0.]\n",
            " [0. 0. 0. 0. 0. 0. 0. 0. 0. 0.]\n",
            " [0. 0. 0. 0. 0. 0. 0. 0. 0. 0.]\n",
            " [0. 0. 0. 0. 0. 0. 0. 0. 0. 0.]\n",
            " [0. 0. 0. 0. 0. 0. 0. 0. 0. 0.]]\n",
            "(1, 0, 0, 0)\n",
            "(0, -1, 0, 0)\n",
            "(-1, 0, 0, 0)\n",
            "(0, 1, 0, 0)\n",
            "None\n"
          ]
        }
      ]
    }
  ]
}