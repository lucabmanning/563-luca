{
  "nbformat": 4,
  "nbformat_minor": 0,
  "metadata": {
    "colab": {
      "provenance": [],
      "include_colab_link": true
    },
    "kernelspec": {
      "name": "python3",
      "display_name": "Python 3"
    },
    "language_info": {
      "name": "python"
    }
  },
  "cells": [
    {
      "cell_type": "markdown",
      "metadata": {
        "id": "view-in-github",
        "colab_type": "text"
      },
      "source": [
        "<a href=\"https://colab.research.google.com/github/lucabmanning/563-luca/blob/main/Luca_MD_Mar3.ipynb\" target=\"_parent\"><img src=\"https://colab.research.google.com/assets/colab-badge.svg\" alt=\"Open In Colab\"/></a>"
      ]
    },
    {
      "cell_type": "code",
      "execution_count": null,
      "metadata": {
        "colab": {
          "base_uri": "https://localhost:8080/"
        },
        "id": "kuBr3jtYBvyj",
        "outputId": "f0452f83-625c-49c5-f564-f5b6a2066329",
        "collapsed": true
      },
      "outputs": [
        {
          "output_type": "stream",
          "name": "stdout",
          "text": [
            "Cloning into 'hoomd-organics'...\n",
            "remote: Enumerating objects: 3573, done.\u001b[K\n",
            "remote: Counting objects: 100% (829/829), done.\u001b[K\n",
            "remote: Compressing objects: 100% (183/183), done.\u001b[K\n",
            "remote: Total 3573 (delta 674), reused 646 (delta 646), pack-reused 2744 (from 1)\u001b[K\n",
            "Receiving objects: 100% (3573/3573), 1.53 MiB | 7.48 MiB/s, done.\n",
            "Resolving deltas: 100% (2461/2461), done.\n",
            "⏬ Downloading https://github.com/jaimergp/miniforge/releases/download/24.11.2-1_colab/Miniforge3-colab-24.11.2-1_colab-Linux-x86_64.sh...\n",
            "📦 Installing...\n",
            "📌 Adjusting configuration...\n",
            "🩹 Patching environment...\n",
            "⏲ Done in 0:00:16\n",
            "🔁 Restarting kernel...\n"
          ]
        }
      ],
      "source": [
        "!pip install -q condacolab\n",
        "!git clone --single-branch --branch cecam https://github.com/cmelab/hoomd-organics\n",
        "import condacolab\n",
        "condacolab.install()"
      ]
    },
    {
      "cell_type": "code",
      "source": [
        "#!pip install --upgrade ipykernel #breaks things?\n",
        "import os\n",
        "os.chdir(\"hoomd-organics\")\n",
        "!mamba env update -n base -f environment-cpu.yml\n",
        "!python -m pip install -e .\n",
        "import warnings\n",
        "warnings.filterwarnings('ignore')"
      ],
      "metadata": {
        "colab": {
          "base_uri": "https://localhost:8080/"
        },
        "id": "tLSzqZVQB7G8",
        "outputId": "49db1d4b-638f-44b4-aa4a-f6008a23ed60",
        "collapsed": true
      },
      "execution_count": null,
      "outputs": [
        {
          "output_type": "stream",
          "name": "stdout",
          "text": [
            "Channels:\n",
            " - conda-forge\n",
            "Platform: linux-64\n",
            "Collecting package metadata (repodata.json): - \b\b\\ \b\b| \b\b/ \b\b- \b\b\\ \b\b| \b\b/ \b\b- \b\b\\ \b\b| \b\b/ \b\b- \b\b\\ \b\b| \b\b/ \b\b- \b\b\\ \b\bdone\n",
            "Solving environment: / \b\b- \b\b\\ \b\b| \b\b/ \b\b- \b\b\\ \b\b| \b\b/ \b\bdone\n",
            "\n",
            "\n",
            "==> WARNING: A newer version of conda exists. <==\n",
            "    current version: 24.11.2\n",
            "    latest version: 25.1.1\n",
            "\n",
            "Please update conda by running\n",
            "\n",
            "    $ conda update -n base -c conda-forge conda\n",
            "\n",
            "\n",
            "Installing pip dependencies: - \b\b\\ \b\b| \b\b/ \b\b- \b\b\\ \b\b| \b\b/ \b\b- \b\b\\ \b\b| \b\b/ \b\b- \b\b\\ \b\b| \b\b/ \b\b- \b\b\\ \b\b| \b\b/ \b\b- \b\b\\ \b\b| \b\b/ \b\b- \b\b\\ \b\b| \b\b/ \b\b- \b\b\\ \b\b| \b\b/ \b\b- \b\b\\ \b\b| \b\b/ \b\b- \b\b\\ \b\b| \b\b/ \b\b- \b\b\\ \b\b| \b\b/ \b\b- \b\b\\ \b\b| \b\b/ \b\b- \b\b\\ \b\b| \b\b/ \b\b- \b\b\\ \b\b| \b\b/ \b\b- \b\b\\ \b\b| \b\b/ \b\b- \b\b\\ \b\b| \b\b/ \b\b- \b\b\\ \b\b| \b\b/ \b\b- \b\b\\ \b\b| \b\b/ \b\b- \b\b\\ \b\b| \b\b/ \b\b- \b\b\\ \b\b| \b\b/ \b\b- \b\b\\ \b\b| \b\b/ \b\b- \b\b\\ \b\b| \b\b/ \b\b- \b\b\\ \b\b| \b\b/ \b\b- \b\b\\ \b\b| \b\b/ \b\b- \b\b\\ \b\b| \b\b/ \b\b- \b\b\\ \b\b| \b\b/ \b\b- \b\b\\ \b\b| \b\b/ \b\b- \b\b\\ \b\b| \b\b/ \b\b- \b\b\\ \b\b| \b\b/ \b\b- \b\b\\ \b\b| \b\b/ \b\b- \b\b\\ \b\b| \b\b/ \b\b- \b\b\\ \b\b| \b\b/ \b\b- \b\b\\ \b\b| \b\b/ \b\b- \b\b\\ \b\b| \b\b/ \b\b- \b\b\\ \b\b| \b\b/ \b\b- \b\b\\ \b\b| \b\b/ \b\b- \b\b\\ \b\b| \b\b/ \b\b- \b\b\\ \b\b| Ran pip subprocess with arguments:\n",
            "['/usr/local/bin/python', '-m', 'pip', 'install', '-U', '-r', '/content/hoomd-organics/condaenv.r770ron1.requirements.txt', '--exists-action=b']\n",
            "Pip subprocess output:\n",
            "Collecting git+https://github.com/mosdef-hub/gmso.git@main (from -r /content/hoomd-organics/condaenv.r770ron1.requirements.txt (line 1))\n",
            "  Cloning https://github.com/mosdef-hub/gmso.git (to revision main) to /tmp/pip-req-build-aisyla2w\n",
            "  Resolved https://github.com/mosdef-hub/gmso.git to commit a331c41320c68377a9c454734a72fa85e2a3cf41\n",
            "  Installing build dependencies: started\n",
            "  Installing build dependencies: finished with status 'done'\n",
            "  Getting requirements to build wheel: started\n",
            "  Getting requirements to build wheel: finished with status 'done'\n",
            "  Preparing metadata (pyproject.toml): started\n",
            "  Preparing metadata (pyproject.toml): finished with status 'done'\n",
            "Collecting git+https://github.com/cmelab/cmeutils.git@master (from -r /content/hoomd-organics/condaenv.r770ron1.requirements.txt (line 2))\n",
            "  Cloning https://github.com/cmelab/cmeutils.git (to revision master) to /tmp/pip-req-build-6gzdkyze\n",
            "  Resolved https://github.com/cmelab/cmeutils.git to commit 4507b4ba1452c70b13b3227f3c67cd7dc08a5a44\n",
            "  Preparing metadata (setup.py): started\n",
            "  Preparing metadata (setup.py): finished with status 'done'\n",
            "Collecting git+https://github.com/cmelab/grits.git@main (from -r /content/hoomd-organics/condaenv.r770ron1.requirements.txt (line 3))\n",
            "  Cloning https://github.com/cmelab/grits.git (to revision main) to /tmp/pip-req-build-lvrz7jzc\n",
            "  Resolved https://github.com/cmelab/grits.git to commit d4a8d31595f349f219ae6369a969675317e72713\n",
            "  Installing build dependencies: started\n",
            "  Installing build dependencies: finished with status 'done'\n",
            "  Getting requirements to build wheel: started\n",
            "  Getting requirements to build wheel: finished with status 'done'\n",
            "  Preparing metadata (pyproject.toml): started\n",
            "  Preparing metadata (pyproject.toml): finished with status 'done'\n",
            "\n",
            "\b\bdone\n",
            "#\n",
            "# To activate this environment, use\n",
            "#\n",
            "#     $ conda activate base\n",
            "#\n",
            "# To deactivate an active environment, use\n",
            "#\n",
            "#     $ conda deactivate\n",
            "\n",
            "Obtaining file:///content/hoomd-organics\n",
            "  Preparing metadata (setup.py) ... \u001b[?25l\u001b[?25hdone\n",
            "Installing collected packages: hoomd-organics\n",
            "  Attempting uninstall: hoomd-organics\n",
            "    Found existing installation: hoomd-organics 0.0.1\n",
            "    Uninstalling hoomd-organics-0.0.1:\n",
            "      Successfully uninstalled hoomd-organics-0.0.1\n",
            "\u001b[33m  DEPRECATION: Legacy editable install of hoomd-organics==0.0.1 from file:///content/hoomd-organics (setup.py develop) is deprecated. pip 25.1 will enforce this behaviour change. A possible replacement is to add a pyproject.toml or enable --use-pep517, and use setuptools >= 64. If the resulting installation is not behaving as expected, try using --config-settings editable_mode=compat. Please consult the setuptools documentation for more information. Discussion can be found at https://github.com/pypa/pip/issues/11457\u001b[0m\u001b[33m\n",
            "\u001b[0m  Running setup.py develop for hoomd-organics\n",
            "Successfully installed hoomd-organics-0.0.1\n"
          ]
        }
      ]
    },
    {
      "cell_type": "code",
      "source": [
        "import hoomd"
      ],
      "metadata": {
        "id": "Zw9MdXhlEgF7"
      },
      "execution_count": null,
      "outputs": []
    },
    {
      "cell_type": "code",
      "source": [
        "import numpy\n",
        "device = hoomd.device.CPU()\n",
        "seed = numpy.random.randint(1,1e4)\n",
        "simulation = hoomd.Simulation(device = device, seed = seed)"
      ],
      "metadata": {
        "id": "jtipxjqcFPeu"
      },
      "execution_count": null,
      "outputs": []
    },
    {
      "cell_type": "code",
      "source": [
        "kT = 1.0\n",
        "epsilon = 1.0\n",
        "sigma = 1.0\n",
        "final_density = 1.0"
      ],
      "metadata": {
        "id": "RXeAsSuEHOpv"
      },
      "execution_count": null,
      "outputs": []
    },
    {
      "cell_type": "code",
      "source": [
        "import freud\n",
        "starting_density = 0.5\n",
        "#a is the spacing between particles\n",
        "a = 1/(starting_density**(1/3.0))\n",
        "#We want a number of particles N in our system.\n",
        "#Since we will be replicating the system in 3 dimensions, the number of unit cells we need is N^(1/3)\n",
        "num_replicas = 20\n",
        "N_particles = num_replicas**3\n",
        "grid_particles = freud.data.UnitCell([a,a,a,0,0,0],[[0,0,0]]).generate_system(num_replicas)\n",
        "box_length = grid_particles[0].Lx"
      ],
      "metadata": {
        "id": "Q9rgspESHgMo"
      },
      "execution_count": null,
      "outputs": []
    },
    {
      "cell_type": "code",
      "source": [
        "import gsd.hoomd\n",
        "frame = gsd.hoomd.Frame()\n",
        "frame.particles.N = N_particles\n",
        "frame.particles.position = grid_particles[1]\n",
        "frame.configuration.box = [box_length,box_length,box_length,0,0,0]\n",
        "\n",
        "#Types of particles define different interactions. In an atomistic simulation these might be C, O, and H.\n",
        "#in a coarse-grained simulation we can give them a simple name like A\n",
        "frame.particles.typeid = [0]*N_particles\n",
        "frame.particles.types = ['A']\n",
        "\n",
        "#Finally, save our initial state:\n",
        "with gsd.hoomd.open(name='initial_state.gsd', mode='w') as f:\n",
        "    f.append(frame)"
      ],
      "metadata": {
        "id": "vP7bjR7bHyPJ"
      },
      "execution_count": null,
      "outputs": []
    },
    {
      "cell_type": "code",
      "source": [
        "simulation.create_state_from_gsd(filename='initial_state.gsd')"
      ],
      "metadata": {
        "id": "ZbrGO2i0INQJ"
      },
      "execution_count": null,
      "outputs": []
    },
    {
      "cell_type": "code",
      "source": [
        "integrator = hoomd.md.Integrator(dt = 0.005)\n",
        "nve = hoomd.md.methods.NVE(filter = hoomd.filter.All())\n",
        "integrator.methods.append(nve)"
      ],
      "metadata": {
        "id": "_i9WSbxMIjKq"
      },
      "execution_count": null,
      "outputs": []
    },
    {
      "cell_type": "code",
      "source": [
        "cell = hoomd.md.nlist.Cell(buffer=0.4)\n",
        "\n",
        "#Define the force for different particles\n",
        "lj = hoomd.md.pair.LJ(nlist=cell)\n",
        "\n",
        "lj.params[('A', 'A')] = {\"epsilon\":epsilon, \"sigma\":sigma}\n",
        "\n",
        "lj.r_cut[('A', 'A')] = 2.5*sigma"
      ],
      "metadata": {
        "id": "yrtXo8YeJkZ0"
      },
      "execution_count": null,
      "outputs": []
    },
    {
      "cell_type": "code",
      "source": [
        "integrator.forces.append(lj)\n",
        "simulation.operations.integrator = integrator"
      ],
      "metadata": {
        "id": "D-KU4fBHRFml"
      },
      "execution_count": null,
      "outputs": []
    },
    {
      "cell_type": "code",
      "source": [
        "simulation.state.thermalize_particle_momenta(filter=hoomd.filter.All(), kT=1.0)\n",
        "thermodynamic_properties = hoomd.md.compute.ThermodynamicQuantities(\n",
        "    filter=hoomd.filter.All()\n",
        ")\n",
        "\n",
        "simulation.operations.computes.append(thermodynamic_properties)\n",
        "logger = hoomd.logging.Logger(categories=['scalar', 'sequence'])\n",
        "logger.add(simulation)\n",
        "logger.add(thermodynamic_properties)\n",
        "tps_tracking = hoomd.logging.Logger(categories=['scalar', 'string'])\n",
        "tps_tracking.add(simulation, quantities=['timestep', 'tps'])\n",
        "table = hoomd.write.Table(trigger=hoomd.trigger.Periodic(period=int(1e4)), logger=tps_tracking)\n",
        "simulation.operations.writers.append(table)"
      ],
      "metadata": {
        "id": "Qz9Q0MaWRbq-"
      },
      "execution_count": null,
      "outputs": []
    },
    {
      "cell_type": "code",
      "source": [
        "# simulation.run(1e5)"
      ],
      "metadata": {
        "id": "CfvqJb44Ticd"
      },
      "execution_count": null,
      "outputs": []
    },
    {
      "cell_type": "code",
      "source": [
        "def run_nve_simulation(dt, steps=100000):\n",
        "    global simulation  # Reset the simulation each time\n",
        "\n",
        "    print(f\"\\n🟢 Starting simulation for dt = {dt}\")\n",
        "\n",
        "    # Re-create a fresh simulation instance\n",
        "    device = hoomd.device.CPU()\n",
        "    simulation = hoomd.Simulation(device=device, seed=42)\n",
        "\n",
        "    # Load initial state from GSD file\n",
        "    simulation.create_state_from_gsd(filename='initial_state.gsd')\n",
        "\n",
        "    # Define integrator\n",
        "    integrator = hoomd.md.Integrator(dt=dt)\n",
        "    nve = hoomd.md.methods.NVE(filter=hoomd.filter.All())\n",
        "    integrator.methods.append(nve)\n",
        "\n",
        "    # ✅ Define neighbor list (Ensure proper force calculation)\n",
        "    cell = hoomd.md.nlist.Cell(buffer=0.4)\n",
        "\n",
        "    # ✅ Define Lennard-Jones potential correctly\n",
        "    lj = hoomd.md.pair.LJ(nlist=cell)\n",
        "    lj.params[('A', 'A')] = {\"epsilon\": 1.0, \"sigma\": 1.0}\n",
        "    lj.r_cut[('A', 'A')] = 2.5  # Ensures force is within range\n",
        "\n",
        "    # ✅ Ensure neighbor list updates correctly\n",
        "    lj.mode = \"shift\"  # LJ potential shift mode for accuracy\n",
        "\n",
        "    # Assign integrator and forces\n",
        "    integrator.forces.append(lj)\n",
        "    simulation.operations.integrator = integrator\n",
        "\n",
        "    # Compute thermodynamic properties\n",
        "    thermo = hoomd.md.compute.ThermodynamicQuantities(filter=hoomd.filter.All())\n",
        "    simulation.operations.computes.append(thermo)\n",
        "\n",
        "    # ✅ Thermalize the system (Set initial velocities)\n",
        "    simulation.state.thermalize_particle_momenta(filter=hoomd.filter.All(), kT=1.0)\n",
        "\n",
        "    # Run a short test and print energy values\n",
        "    simulation.run(1000)\n",
        "    print(f\"Kinetic Energy (after 1000 steps): {thermo.kinetic_energy}\")\n",
        "    print(f\"Potential Energy (after 1000 steps): {thermo.potential_energy}\")\n",
        "\n",
        "    # Store total energy values\n",
        "    total_energy = []\n",
        "\n",
        "    # Print starting timestep\n",
        "    print(f\"📌 Starting Timestep: {simulation.timestep}\")\n",
        "\n",
        "    for i in range(steps // 1000):\n",
        "        simulation.run(1000)  # Run for 1000 steps at a time\n",
        "\n",
        "        # Ensure kinetic and potential energy are computed correctly\n",
        "        kinetic_energy = thermo.kinetic_energy\n",
        "        potential_energy = thermo.potential_energy\n",
        "\n",
        "        if np.isnan(kinetic_energy) or np.isnan(potential_energy):\n",
        "            print(f\"❌ NaN detected at timestep {simulation.timestep}\")\n",
        "            break  # Stop simulation if NaN appears\n",
        "\n",
        "        total_energy.append(kinetic_energy + potential_energy)\n",
        "\n",
        "        # Print status update every 10,000 steps\n",
        "        if (i + 1) % 10 == 0:\n",
        "            print(f\"🕒 Timestep: {simulation.timestep}, TPS: {simulation.tps:.2f}\")\n",
        "\n",
        "    # Print final timestep\n",
        "    print(f\"✅ Final Timestep: {simulation.timestep}\")\n",
        "\n",
        "    if len(total_energy) == 0:\n",
        "        print(\"❌ No valid energy values were recorded!\")\n",
        "        return [np.nan]  # Avoid empty array error\n",
        "\n",
        "    # Normalize drift (ΔE/E₀)\n",
        "    energy_drift = (np.array(total_energy) - total_energy[0]) / total_energy[0]\n",
        "    return energy_drift\n"
      ],
      "metadata": {
        "id": "34xrjxmnCeZ1"
      },
      "execution_count": null,
      "outputs": []
    },
    {
      "cell_type": "code",
      "source": [
        "dt = 0.0005\n",
        "print(f\"Running simulation for dt = {dt}\")\n",
        "energy_drift_results[dt] = run_nve_simulation(dt)\n"
      ],
      "metadata": {
        "colab": {
          "base_uri": "https://localhost:8080/"
        },
        "id": "X3cK_tkWE-Dh",
        "outputId": "8435efd7-602d-4b50-8f57-a1b9428f026b"
      },
      "execution_count": null,
      "outputs": [
        {
          "output_type": "stream",
          "name": "stdout",
          "text": [
            "Running simulation for dt = 0.0005\n",
            "\n",
            "🟢 Starting simulation for dt = 0.0005\n",
            "Kinetic Energy (after 1000 steps): 11869.701399156107\n",
            "Potential Energy (after 1000 steps): -23273.090633123487\n",
            "📌 Starting Timestep: 1000\n",
            "🕒 Timestep: 11000, TPS: 178.28\n",
            "🕒 Timestep: 21000, TPS: 169.86\n",
            "🕒 Timestep: 31000, TPS: 153.68\n",
            "🕒 Timestep: 41000, TPS: 149.57\n",
            "🕒 Timestep: 51000, TPS: 149.52\n",
            "🕒 Timestep: 61000, TPS: 165.28\n",
            "🕒 Timestep: 71000, TPS: 176.65\n",
            "🕒 Timestep: 81000, TPS: 173.60\n",
            "🕒 Timestep: 91000, TPS: 176.10\n",
            "🕒 Timestep: 101000, TPS: 159.44\n",
            "✅ Final Timestep: 101000\n"
          ]
        }
      ]
    },
    {
      "cell_type": "code",
      "source": [
        "energy_drift_results = {}\n",
        "dt_values = [0.0005, 0.001, 0.005, 0.01, 0.05]\n",
        "\n",
        "for dt in dt_values:\n",
        "    print(f\"Running simulation for dt = {dt}\")\n",
        "    energy_drift_results[dt] = run_nve_simulation(dt)\n"
      ],
      "metadata": {
        "colab": {
          "base_uri": "https://localhost:8080/",
          "height": 1000
        },
        "id": "8-JmItFqCRUV",
        "outputId": "6a3b23a5-afab-43af-b7c6-583dac8d878f"
      },
      "execution_count": null,
      "outputs": [
        {
          "output_type": "stream",
          "name": "stdout",
          "text": [
            "Running simulation for dt = 0.0005\n",
            "\n",
            "🟢 Starting simulation for dt = 0.0005\n",
            "Kinetic Energy (after 1000 steps): 11869.701399156107\n",
            "Potential Energy (after 1000 steps): -23273.090633123487\n",
            "📌 Starting Timestep: 1000\n",
            "🕒 Timestep: 11000, TPS: 155.03\n",
            "🕒 Timestep: 21000, TPS: 177.43\n",
            "🕒 Timestep: 31000, TPS: 176.98\n",
            "🕒 Timestep: 41000, TPS: 165.90\n",
            "🕒 Timestep: 51000, TPS: 154.00\n",
            "🕒 Timestep: 61000, TPS: 153.40\n",
            "🕒 Timestep: 71000, TPS: 172.93\n",
            "🕒 Timestep: 81000, TPS: 179.27\n",
            "🕒 Timestep: 91000, TPS: 156.14\n",
            "🕒 Timestep: 101000, TPS: 153.67\n",
            "✅ Final Timestep: 101000\n",
            "Running simulation for dt = 0.001\n",
            "\n",
            "🟢 Starting simulation for dt = 0.001\n",
            "Kinetic Energy (after 1000 steps): 12257.956402664011\n",
            "Potential Energy (after 1000 steps): -23661.428792548\n",
            "📌 Starting Timestep: 1000\n",
            "🕒 Timestep: 11000, TPS: 165.22\n",
            "🕒 Timestep: 21000, TPS: 155.86\n",
            "🕒 Timestep: 31000, TPS: 145.25\n",
            "🕒 Timestep: 41000, TPS: 142.20\n",
            "🕒 Timestep: 51000, TPS: 163.95\n",
            "🕒 Timestep: 61000, TPS: 163.92\n",
            "🕒 Timestep: 71000, TPS: 141.29\n",
            "🕒 Timestep: 81000, TPS: 143.47\n",
            "🕒 Timestep: 91000, TPS: 150.01\n",
            "🕒 Timestep: 101000, TPS: 165.58\n",
            "✅ Final Timestep: 101000\n",
            "Running simulation for dt = 0.005\n",
            "\n",
            "🟢 Starting simulation for dt = 0.005\n",
            "Kinetic Energy (after 1000 steps): 12736.200982604576\n",
            "Potential Energy (after 1000 steps): -24143.167020708035\n",
            "📌 Starting Timestep: 1000\n",
            "🕒 Timestep: 11000, TPS: 98.07\n",
            "🕒 Timestep: 21000, TPS: 98.15\n",
            "🕒 Timestep: 31000, TPS: 96.71\n",
            "🕒 Timestep: 41000, TPS: 96.39\n",
            "🕒 Timestep: 51000, TPS: 97.38\n",
            "🕒 Timestep: 61000, TPS: 97.65\n",
            "🕒 Timestep: 71000, TPS: 96.35\n",
            "🕒 Timestep: 81000, TPS: 95.66\n",
            "🕒 Timestep: 91000, TPS: 97.67\n",
            "🕒 Timestep: 101000, TPS: 96.78\n",
            "✅ Final Timestep: 101000\n",
            "Running simulation for dt = 0.01\n",
            "\n",
            "🟢 Starting simulation for dt = 0.01\n",
            "Kinetic Energy (after 1000 steps): 12683.050250166783\n",
            "Potential Energy (after 1000 steps): -24098.967517323446\n",
            "📌 Starting Timestep: 1000\n",
            "🕒 Timestep: 11000, TPS: 71.25\n",
            "🕒 Timestep: 21000, TPS: 72.51\n",
            "🕒 Timestep: 31000, TPS: 71.98\n",
            "🕒 Timestep: 41000, TPS: 72.02\n",
            "🕒 Timestep: 51000, TPS: 71.39\n",
            "🕒 Timestep: 61000, TPS: 69.80\n",
            "🕒 Timestep: 71000, TPS: 71.99\n",
            "🕒 Timestep: 81000, TPS: 71.38\n",
            "🕒 Timestep: 91000, TPS: 71.32\n",
            "🕒 Timestep: 101000, TPS: 71.75\n",
            "✅ Final Timestep: 101000\n",
            "Running simulation for dt = 0.05\n",
            "\n",
            "🟢 Starting simulation for dt = 0.05\n"
          ]
        },
        {
          "output_type": "stream",
          "name": "stderr",
          "text": [
            "**ERROR**: Particle with unique tag 2458 is no longer in the simulation box.\n",
            "\n",
            "Cartesian coordinates: \n",
            "x: -9.30294 y: -0.495592 z: -18.5984\n",
            "Fractional coordinates: \n",
            "f.x: 0.130813 f.y: 0.480332 f.z: -0.238079\n",
            "Local box lo: (-12.5992, -12.5992, -12.5992)\n",
            "          hi: (12.5992, 12.5992, 12.5992)\n"
          ]
        },
        {
          "output_type": "error",
          "ename": "RuntimeError",
          "evalue": "Error computing cell list",
          "traceback": [
            "\u001b[0;31m---------------------------------------------------------------------------\u001b[0m",
            "\u001b[0;31mRuntimeError\u001b[0m                              Traceback (most recent call last)",
            "\u001b[0;32m<ipython-input-42-4d8e887cb4ed>\u001b[0m in \u001b[0;36m<cell line: 0>\u001b[0;34m()\u001b[0m\n\u001b[1;32m      4\u001b[0m \u001b[0;32mfor\u001b[0m \u001b[0mdt\u001b[0m \u001b[0;32min\u001b[0m \u001b[0mdt_values\u001b[0m\u001b[0;34m:\u001b[0m\u001b[0;34m\u001b[0m\u001b[0;34m\u001b[0m\u001b[0m\n\u001b[1;32m      5\u001b[0m     \u001b[0mprint\u001b[0m\u001b[0;34m(\u001b[0m\u001b[0;34mf\"Running simulation for dt = {dt}\"\u001b[0m\u001b[0;34m)\u001b[0m\u001b[0;34m\u001b[0m\u001b[0;34m\u001b[0m\u001b[0m\n\u001b[0;32m----> 6\u001b[0;31m     \u001b[0menergy_drift_results\u001b[0m\u001b[0;34m[\u001b[0m\u001b[0mdt\u001b[0m\u001b[0;34m]\u001b[0m \u001b[0;34m=\u001b[0m \u001b[0mrun_nve_simulation\u001b[0m\u001b[0;34m(\u001b[0m\u001b[0mdt\u001b[0m\u001b[0;34m)\u001b[0m\u001b[0;34m\u001b[0m\u001b[0;34m\u001b[0m\u001b[0m\n\u001b[0m",
            "\u001b[0;32m<ipython-input-40-acee13f6da0a>\u001b[0m in \u001b[0;36mrun_nve_simulation\u001b[0;34m(dt, steps)\u001b[0m\n\u001b[1;32m     39\u001b[0m \u001b[0;34m\u001b[0m\u001b[0m\n\u001b[1;32m     40\u001b[0m     \u001b[0;31m# Run a short test and print energy values\u001b[0m\u001b[0;34m\u001b[0m\u001b[0;34m\u001b[0m\u001b[0m\n\u001b[0;32m---> 41\u001b[0;31m     \u001b[0msimulation\u001b[0m\u001b[0;34m.\u001b[0m\u001b[0mrun\u001b[0m\u001b[0;34m(\u001b[0m\u001b[0;36m1000\u001b[0m\u001b[0;34m)\u001b[0m\u001b[0;34m\u001b[0m\u001b[0;34m\u001b[0m\u001b[0m\n\u001b[0m\u001b[1;32m     42\u001b[0m     \u001b[0mprint\u001b[0m\u001b[0;34m(\u001b[0m\u001b[0;34mf\"Kinetic Energy (after 1000 steps): {thermo.kinetic_energy}\"\u001b[0m\u001b[0;34m)\u001b[0m\u001b[0;34m\u001b[0m\u001b[0;34m\u001b[0m\u001b[0m\n\u001b[1;32m     43\u001b[0m     \u001b[0mprint\u001b[0m\u001b[0;34m(\u001b[0m\u001b[0;34mf\"Potential Energy (after 1000 steps): {thermo.potential_energy}\"\u001b[0m\u001b[0;34m)\u001b[0m\u001b[0;34m\u001b[0m\u001b[0;34m\u001b[0m\u001b[0m\n",
            "\u001b[0;32m/usr/local/lib/python3.11/site-packages/hoomd/simulation.py\u001b[0m in \u001b[0;36mrun\u001b[0;34m(self, steps, write_at_start)\u001b[0m\n\u001b[1;32m    460\u001b[0m                              f\"{TIMESTEP_MAX-1}]\")\n\u001b[1;32m    461\u001b[0m \u001b[0;34m\u001b[0m\u001b[0m\n\u001b[0;32m--> 462\u001b[0;31m         \u001b[0mself\u001b[0m\u001b[0;34m.\u001b[0m\u001b[0m_cpp_sys\u001b[0m\u001b[0;34m.\u001b[0m\u001b[0mrun\u001b[0m\u001b[0;34m(\u001b[0m\u001b[0msteps_int\u001b[0m\u001b[0;34m,\u001b[0m \u001b[0mwrite_at_start\u001b[0m\u001b[0;34m)\u001b[0m\u001b[0;34m\u001b[0m\u001b[0;34m\u001b[0m\u001b[0m\n\u001b[0m\u001b[1;32m    463\u001b[0m \u001b[0;34m\u001b[0m\u001b[0m\n\u001b[1;32m    464\u001b[0m \u001b[0;34m\u001b[0m\u001b[0m\n",
            "\u001b[0;31mRuntimeError\u001b[0m: Error computing cell list"
          ]
        }
      ]
    },
    {
      "cell_type": "code",
      "source": [
        "def run_nve_simulation(dt, steps=100000):\n",
        "    global simulation  # Reset the simulation each time\n",
        "\n",
        "    print(f\"\\n🟢 Starting simulation for dt = {dt}\")\n",
        "\n",
        "    # Re-create a fresh simulation instance\n",
        "    device = hoomd.device.CPU()\n",
        "    simulation = hoomd.Simulation(device=device, seed=42)\n",
        "\n",
        "    # Load initial state from GSD file\n",
        "    simulation.create_state_from_gsd(filename='initial_state.gsd')\n",
        "\n",
        "    # ✅ Ensure periodic boundary conditions\n",
        "    box = simulation.state.box\n",
        "    if not all(box.periodic):\n",
        "        print(\"⚠️ Warning: Enabling periodic boundary conditions.\")\n",
        "        simulation.state.box = hoomd.Box.from_box(box.Lx, box.Ly, box.Lz, dimensions=3)\n",
        "\n",
        "    # Define integrator\n",
        "    integrator = hoomd.md.Integrator(dt=dt)\n",
        "    nve = hoomd.md.methods.NVE(filter=hoomd.filter.All())\n",
        "    integrator.methods.append(nve)\n",
        "\n",
        "    # ✅ Reduce `dt` if too large\n",
        "    if dt > 0.01:\n",
        "        print(\"⚠️ Warning: Large dt detected! Reducing to dt = 0.01 for stability.\")\n",
        "        dt = 0.01  # Limit dt to avoid instability\n",
        "\n",
        "    # ✅ Define neighbor list (Ensure proper force calculation)\n",
        "    cell = hoomd.md.nlist.Cell(buffer=0.4)\n",
        "\n",
        "    # ✅ Define Lennard-Jones potential correctly\n",
        "    lj = hoomd.md.pair.LJ(nlist=cell)\n",
        "    lj.params[('A', 'A')] = {\"epsilon\": 1.0, \"sigma\": 1.0}\n",
        "    lj.r_cut[('A', 'A')] = 2.5  # Ensures force is within range\n",
        "\n",
        "    # ✅ Ensure neighbor list updates correctly\n",
        "    lj.mode = \"shift\"  # LJ potential shift mode for accuracy\n",
        "\n",
        "    # Assign integrator and forces\n",
        "    integrator.forces.append(lj)\n",
        "    simulation.operations.integrator = integrator\n",
        "\n",
        "    # Compute thermodynamic properties\n",
        "    thermo = hoomd.md.compute.ThermodynamicQuantities(filter=hoomd.filter.All())\n",
        "    simulation.operations.computes.append(thermo)\n",
        "\n",
        "    # ✅ Thermalize the system (Set initial velocities)\n",
        "    simulation.state.thermalize_particle_momenta(filter=hoomd.filter.All(), kT=1.0)\n",
        "\n",
        "    # Run a short test and print energy values\n",
        "    simulation.run(1000)\n",
        "    print(f\"Kinetic Energy (after 1000 steps): {thermo.kinetic_energy}\")\n",
        "    print(f\"Potential Energy (after 1000 steps): {thermo.potential_energy}\")\n",
        "\n",
        "    # Store total energy values\n",
        "    total_energy = []\n",
        "\n",
        "    # Print starting timestep\n",
        "    print(f\"📌 Starting Timestep: {simulation.timestep}\")\n",
        "\n",
        "    for i in range(steps // 1000):\n",
        "        try:\n",
        "            simulation.run(1000)  # Run for 1000 steps at a time\n",
        "        except RuntimeError as e:\n",
        "            print(f\"❌ Simulation Error at timestep {simulation.timestep}: {e}\")\n",
        "            break  # Stop simulation if instability occurs\n",
        "\n",
        "        # Ensure kinetic and potential energy are computed correctly\n",
        "        kinetic_energy = thermo.kinetic_energy\n",
        "        potential_energy = thermo.potential_energy\n",
        "\n",
        "        if np.isnan(kinetic_energy) or np.isnan(potential_energy):\n",
        "            print(f\"❌ NaN detected at timestep {simulation.timestep}\")\n",
        "            break  # Stop simulation if NaN appears\n",
        "\n",
        "        total_energy.append(kinetic_energy + potential_energy)\n",
        "\n",
        "        # Print status update every 10,000 steps\n",
        "        if (i + 1) % 10 == 0:\n",
        "            print(f\"🕒 Timestep: {simulation.timestep}, TPS: {simulation.tps:.2f}\")\n",
        "\n",
        "    # Print final timestep\n",
        "    print(f\"✅ Final Timestep: {simulation.timestep}\")\n",
        "\n",
        "    if len(total_energy) == 0:\n",
        "        print(\"❌ No valid energy values were recorded!\")\n",
        "        return [np.nan]  # Avoid empty array error\n",
        "\n",
        "    # Normalize drift (ΔE/E₀)\n",
        "    energy_drift = (np.array(total_energy) - total_energy[0]) / total_energy[0]\n",
        "    return energy_drift\n"
      ],
      "metadata": {
        "id": "KD4hmr-mXl_6"
      },
      "execution_count": null,
      "outputs": []
    },
    {
      "cell_type": "code",
      "source": [
        "dt = 0.05\n",
        "print(f\"Running simulation for dt = {dt}\")\n",
        "energy_drift_results[dt] = run_nve_simulation(dt)\n"
      ],
      "metadata": {
        "colab": {
          "base_uri": "https://localhost:8080/",
          "height": 543
        },
        "id": "ZNzWnmstXnkY",
        "outputId": "28107c23-45b3-477c-802e-b8dd225faa14"
      },
      "execution_count": null,
      "outputs": [
        {
          "output_type": "stream",
          "name": "stdout",
          "text": [
            "Running simulation for dt = 0.05\n",
            "\n",
            "🟢 Starting simulation for dt = 0.05\n",
            "⚠️ Warning: Large dt detected! Reducing to dt = 0.01 for stability.\n"
          ]
        },
        {
          "output_type": "stream",
          "name": "stderr",
          "text": [
            "**ERROR**: Particle with unique tag 2458 is no longer in the simulation box.\n",
            "\n",
            "Cartesian coordinates: \n",
            "x: -9.30294 y: -0.495592 z: -18.5984\n",
            "Fractional coordinates: \n",
            "f.x: 0.130813 f.y: 0.480332 f.z: -0.238079\n",
            "Local box lo: (-12.5992, -12.5992, -12.5992)\n",
            "          hi: (12.5992, 12.5992, 12.5992)\n"
          ]
        },
        {
          "output_type": "error",
          "ename": "RuntimeError",
          "evalue": "Error computing cell list",
          "traceback": [
            "\u001b[0;31m---------------------------------------------------------------------------\u001b[0m",
            "\u001b[0;31mRuntimeError\u001b[0m                              Traceback (most recent call last)",
            "\u001b[0;32m<ipython-input-47-fe670e92c745>\u001b[0m in \u001b[0;36m<cell line: 0>\u001b[0;34m()\u001b[0m\n\u001b[1;32m      1\u001b[0m \u001b[0mdt\u001b[0m \u001b[0;34m=\u001b[0m \u001b[0;36m0.05\u001b[0m\u001b[0;34m\u001b[0m\u001b[0;34m\u001b[0m\u001b[0m\n\u001b[1;32m      2\u001b[0m \u001b[0mprint\u001b[0m\u001b[0;34m(\u001b[0m\u001b[0;34mf\"Running simulation for dt = {dt}\"\u001b[0m\u001b[0;34m)\u001b[0m\u001b[0;34m\u001b[0m\u001b[0;34m\u001b[0m\u001b[0m\n\u001b[0;32m----> 3\u001b[0;31m \u001b[0menergy_drift_results\u001b[0m\u001b[0;34m[\u001b[0m\u001b[0mdt\u001b[0m\u001b[0;34m]\u001b[0m \u001b[0;34m=\u001b[0m \u001b[0mrun_nve_simulation\u001b[0m\u001b[0;34m(\u001b[0m\u001b[0mdt\u001b[0m\u001b[0;34m)\u001b[0m\u001b[0;34m\u001b[0m\u001b[0;34m\u001b[0m\u001b[0m\n\u001b[0m",
            "\u001b[0;32m<ipython-input-45-b31c84d83ae3>\u001b[0m in \u001b[0;36mrun_nve_simulation\u001b[0;34m(dt, steps)\u001b[0m\n\u001b[1;32m     50\u001b[0m \u001b[0;34m\u001b[0m\u001b[0m\n\u001b[1;32m     51\u001b[0m     \u001b[0;31m# Run a short test and print energy values\u001b[0m\u001b[0;34m\u001b[0m\u001b[0;34m\u001b[0m\u001b[0m\n\u001b[0;32m---> 52\u001b[0;31m     \u001b[0msimulation\u001b[0m\u001b[0;34m.\u001b[0m\u001b[0mrun\u001b[0m\u001b[0;34m(\u001b[0m\u001b[0;36m1000\u001b[0m\u001b[0;34m)\u001b[0m\u001b[0;34m\u001b[0m\u001b[0;34m\u001b[0m\u001b[0m\n\u001b[0m\u001b[1;32m     53\u001b[0m     \u001b[0mprint\u001b[0m\u001b[0;34m(\u001b[0m\u001b[0;34mf\"Kinetic Energy (after 1000 steps): {thermo.kinetic_energy}\"\u001b[0m\u001b[0;34m)\u001b[0m\u001b[0;34m\u001b[0m\u001b[0;34m\u001b[0m\u001b[0m\n\u001b[1;32m     54\u001b[0m     \u001b[0mprint\u001b[0m\u001b[0;34m(\u001b[0m\u001b[0;34mf\"Potential Energy (after 1000 steps): {thermo.potential_energy}\"\u001b[0m\u001b[0;34m)\u001b[0m\u001b[0;34m\u001b[0m\u001b[0;34m\u001b[0m\u001b[0m\n",
            "\u001b[0;32m/usr/local/lib/python3.11/site-packages/hoomd/simulation.py\u001b[0m in \u001b[0;36mrun\u001b[0;34m(self, steps, write_at_start)\u001b[0m\n\u001b[1;32m    460\u001b[0m                              f\"{TIMESTEP_MAX-1}]\")\n\u001b[1;32m    461\u001b[0m \u001b[0;34m\u001b[0m\u001b[0m\n\u001b[0;32m--> 462\u001b[0;31m         \u001b[0mself\u001b[0m\u001b[0;34m.\u001b[0m\u001b[0m_cpp_sys\u001b[0m\u001b[0;34m.\u001b[0m\u001b[0mrun\u001b[0m\u001b[0;34m(\u001b[0m\u001b[0msteps_int\u001b[0m\u001b[0;34m,\u001b[0m \u001b[0mwrite_at_start\u001b[0m\u001b[0;34m)\u001b[0m\u001b[0;34m\u001b[0m\u001b[0;34m\u001b[0m\u001b[0m\n\u001b[0m\u001b[1;32m    463\u001b[0m \u001b[0;34m\u001b[0m\u001b[0m\n\u001b[1;32m    464\u001b[0m \u001b[0;34m\u001b[0m\u001b[0m\n",
            "\u001b[0;31mRuntimeError\u001b[0m: Error computing cell list"
          ]
        }
      ]
    },
    {
      "cell_type": "markdown",
      "source": [
        "Running simulation for dt = 0.0005\n",
        "\n",
        "🟢 Starting simulation for dt = 0.0005\n",
        "\n",
        "Kinetic Energy (after 1000 steps): 11869.701399156107\n",
        "\n",
        "Potential Energy (after 1000 steps): -23273.090633123487\n",
        "\n",
        "\n",
        "📌 Starting Timestep: 1000\n",
        "\n",
        "🕒 Timestep: 11000, TPS: 155.03\n",
        "\n",
        "🕒 Timestep: 21000, TPS: 177.43\n",
        "\n",
        "🕒 Timestep: 31000, TPS: 176.98\n",
        "\n",
        "🕒 Timestep: 41000, TPS: 165.90\n",
        "\n",
        "🕒 Timestep: 51000, TPS: 154.00\n",
        "\n",
        "🕒 Timestep: 61000, TPS: 153.40\n",
        "\n",
        "🕒 Timestep: 71000, TPS: 172.93\n",
        "\n",
        "🕒 Timestep: 81000, TPS: 179.27\n",
        "\n",
        "🕒 Timestep: 91000, TPS: 156.14\n",
        "\n",
        "🕒 Timestep: 101000, TPS: 153.67\n",
        "\n",
        "✅ Final Timestep: 101000\n",
        "\n",
        "Running simulation for dt = 0.001\n",
        "\n",
        "🟢 Starting simulation for dt = 0.001\n",
        "\n",
        "Kinetic Energy (after 1000 steps): 12257.956402664011\n",
        "\n",
        "Potential Energy (after 1000 steps): -23661.428792548\n",
        "\n",
        "📌 Starting Timestep: 1000\n",
        "\n",
        "🕒 Timestep: 11000, TPS: 165.22\n",
        "\n",
        "\n",
        "🕒 Timestep: 21000, TPS: 155.86\n",
        "\n",
        "🕒 Timestep: 31000, TPS: 145.25\n",
        "\n",
        "🕒 Timestep: 41000, TPS: 142.20\n",
        "\n",
        "🕒 Timestep: 51000, TPS: 163.95\n",
        "\n",
        "🕒 Timestep: 61000, TPS: 163.92\n",
        "\n",
        "🕒 Timestep: 71000, TPS: 141.29\n",
        "\n",
        "🕒 Timestep: 81000, TPS: 143.47\n",
        "\n",
        "🕒 Timestep: 91000, TPS: 150.01\n",
        "\n",
        "🕒 Timestep: 101000, TPS: 165.58\n",
        "\n",
        "✅ Final Timestep: 101000\n",
        "\n",
        "Running simulation for dt = 0.005\n",
        "\n",
        "\n",
        "🟢 Starting simulation for dt = 0.005\n",
        "\n",
        "Kinetic Energy (after 1000 steps): 12736.200982604576\n",
        "\n",
        "Potential Energy (after 1000 steps): -24143.167020708035\n",
        "\n",
        "📌 Starting Timestep: 1000\n",
        "\n",
        "🕒 Timestep: 11000, TPS: 98.07\n",
        "\n",
        "🕒 Timestep: 21000, TPS: 98.15\n",
        "\n",
        "🕒 Timestep: 31000, TPS: 96.71\n",
        "\n",
        "🕒 Timestep: 41000, TPS: 96.39\n",
        "\n",
        "🕒 Timestep: 51000, TPS: 97.38\n",
        "\n",
        "🕒 Timestep: 61000, TPS: 97.65\n",
        "\n",
        "🕒 Timestep: 71000, TPS: 96.35\n",
        "\n",
        "🕒 Timestep: 81000, TPS: 95.66\n",
        "\n",
        "🕒 Timestep: 91000, TPS: 97.67\n",
        "\n",
        "🕒 Timestep: 101000, TPS: 96.78\n",
        "\n",
        "✅ Final Timestep: 101000\n",
        "\n",
        "Running simulation for dt = 0.01\n",
        "\n",
        "\n",
        "\n",
        "🟢 Starting simulation for dt = 0.01\n",
        "\n",
        "Kinetic Energy (after 1000 steps): 12683.050250166783\n",
        "\n",
        "Potential Energy (after 1000 steps): -24098.967517323446\n",
        "\n",
        "📌 Starting Timestep: 1000\n",
        "\n",
        "🕒 Timestep: 11000, TPS: 71.25\n",
        "\n",
        "🕒 Timestep: 21000, TPS: 72.51\n",
        "\n",
        "🕒 Timestep: 31000, TPS: 71.98\n",
        "\n",
        "🕒 Timestep: 41000, TPS: 72.02\n",
        "\n",
        "🕒 Timestep: 51000, TPS: 71.39\n",
        "\n",
        "🕒 Timestep: 61000, TPS: 69.80\n",
        "\n",
        "🕒 Timestep: 71000, TPS: 71.99\n",
        "\n",
        "🕒 Timestep: 81000, TPS: 71.38\n",
        "\n",
        "🕒 Timestep: 91000, TPS: 71.32\n",
        "\n",
        "🕒 Timestep: 101000, TPS: 71.75\n",
        "\n",
        "✅ Final Timestep: 101000\n",
        "\n",
        "Running simulation for dt = 0.05\n"
      ],
      "metadata": {
        "id": "GkZ3fgi3XDpM"
      }
    },
    {
      "cell_type": "code",
      "source": [
        "# thermo = hoomd.md.compute.ThermodynamicQuantities(filter=hoomd.filter.All())\n",
        "# simulation.operations.computes.append(thermo)\n",
        "\n",
        "# print(f\"Kinetic Energy: {thermo.kinetic_energy}\")\n",
        "# print(f\"Potential Energy: {thermo.potential_energy}\")\n"
      ],
      "metadata": {
        "id": "lyw5UFmfEOE9"
      },
      "execution_count": null,
      "outputs": []
    },
    {
      "cell_type": "code",
      "source": [
        "# Define timestep values and their corresponding TPS from the output\n",
        "timesteps = np.arange(10000, 110000, 10000)\n",
        "\n",
        "# TPS values for each dt\n",
        "tps_values = {\n",
        "    0.0005: [155.03, 177.43, 176.98, 165.90, 154.00, 153.40, 172.93, 179.27, 156.14, 153.67],\n",
        "    0.001: [165.22, 155.86, 145.25, 142.20, 163.95, 163.92, 141.29, 143.47, 150.01, 165.58],\n",
        "    0.005: [98.07, 98.15, 96.71, 96.39, 97.38, 97.65, 96.35, 95.66, 97.67, 96.78],\n",
        "    0.01: [71.25, 72.51, 71.98, 72.02, 71.39, 69.80, 71.99, 71.38, 71.32, 71.75]\n",
        "}\n",
        "\n",
        "# Plot TPS for different dt values\n",
        "plt.figure(figsize=(8, 6))\n",
        "\n",
        "for dt, tps in tps_values.items():\n",
        "    plt.plot(timesteps, tps, marker='o', linestyle='--', label=f\"dt = {dt}\")\n",
        "\n",
        "# Labels and title\n",
        "plt.xlabel('Timestep')\n",
        "plt.ylabel('Timesteps per Second (TPS)')\n",
        "plt.title('TPS vs. Simulation Timestep for Different dt Values')\n",
        "plt.legend()\n",
        "plt.grid()\n",
        "\n",
        "# Show plot\n",
        "plt.show()\n"
      ],
      "metadata": {
        "colab": {
          "base_uri": "https://localhost:8080/",
          "height": 564
        },
        "id": "IIM2ITAPD17H",
        "outputId": "4b799782-f6b2-4a71-8074-78bfc930d6f1"
      },
      "execution_count": null,
      "outputs": [
        {
          "output_type": "display_data",
          "data": {
            "text/plain": [
              "<Figure size 800x600 with 1 Axes>"
            ],
            "image/png": "[encoded data removed]"
          },
          "metadata": {}
        }
      ]
    }
  ]
}