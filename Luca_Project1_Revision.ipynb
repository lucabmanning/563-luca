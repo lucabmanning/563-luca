{
  "cells": [
    {
      "cell_type": "markdown",
      "metadata": {
        "id": "view-in-github",
        "colab_type": "text"
      },
      "source": [
        "<a href=\"https://colab.research.google.com/github/lucabmanning/563-luca/blob/main/Luca_Project1_Revision.ipynb\" target=\"_parent\"><img src=\"https://colab.research.google.com/assets/colab-badge.svg\" alt=\"Open In Colab\"/></a>"
      ]
    },
    {
      "cell_type": "code",
      "execution_count": 1,
      "metadata": {
        "id": "pLok1JfQosMa"
      },
      "outputs": [],
      "source": [
        "import numpy\n",
        "import matplotlib.pyplot as plt\n",
        "\n",
        "def pbc(d,L):\n",
        "  for i,x in enumerate(d):\n",
        "    if x > L/2:\n",
        "      d[i] = x-L\n",
        "    elif x <= -L/2:\n",
        "      d[i] = x+L\n",
        "  return d\n",
        "\n",
        "def distance(ri,rj,L):\n",
        "  d = pbc(rj-ri,L)\n",
        "  return numpy.linalg.norm(d)\n",
        "\n",
        "def lj(r,epsilon=1.,sigma=1.):\n",
        "  return 4*epsilon*((sigma/r)**12-(sigma/r)**6)\n",
        "\n",
        "class simulation():\n",
        "  def __init__(self,N=100,L=10,T=1.,maxD=0.1,maxSteps=10,debug=False,seed=2):\n",
        "    numpy.random.seed(seed)\n",
        "    self.N = N\n",
        "    self.L = L\n",
        "    self.T = T\n",
        "    self.maxD = maxD\n",
        "    self.accept = 0\n",
        "    self.reject = 0\n",
        "    self.rcut = 2.5\n",
        "    self.pos = numpy.zeros((N,3))\n",
        "    self.debug = debug\n",
        "    self.maxSteps = maxSteps\n",
        "    self.energies = numpy.zeros(maxSteps)\n",
        "    for i in range(self.N):\n",
        "      while True:\n",
        "        self.pos[i] = numpy.random.uniform(low=-L/2,high=L/2,size=3)\n",
        "        if self.energy(i,initializing=True)<=0.:\n",
        "          break\n",
        "    self.E = self.energy()\n",
        "    for i in range(self.maxSteps):\n",
        "      self.trial()\n",
        "      if self.debug:\n",
        "        print(\"{:03}:   {:.2f}\".format(i, self.E))\n",
        "      self.energies[i] = self.E\n",
        "\n",
        "  def energy(self,i=None,initializing=False):\n",
        "    E = 0\n",
        "    if i is not None and initializing:\n",
        "      pi = self.pos[i]\n",
        "      for j in range(i):\n",
        "        r = distance(pi,self.pos[j],self.L)\n",
        "        if r <= self.rcut:\n",
        "          E += lj(r)\n",
        "      return E\n",
        "    if i is None:\n",
        "      for i in range(self.N-1):\n",
        "        pi = self.pos[i]\n",
        "        for j in range(i+1,self.N):\n",
        "          r = distance(pi,self.pos[j],self.L) # speed up with numpy\n",
        "          if r <= self.rcut:\n",
        "            E += lj(r)\n",
        "      return E\n",
        "\n",
        "  def trial(self):\n",
        "    i = numpy.random.randint(self.N)\n",
        "    oldP = numpy.copy(self.pos[i])\n",
        "    oldE = self.E\n",
        "    oldEi = self.energy()\n",
        "    d = numpy.random.uniform(low=-self.maxD,high=self.maxD,size=3)\n",
        "    newP = pbc(oldP+d,self.L)\n",
        "    self.pos[i] = newP\n",
        "    newEi = self.energy()\n",
        "    dE = newEi - oldEi\n",
        "    if numpy.random.uniform() <= numpy.exp(-dE/self.T):\n",
        "      if self.debug:\n",
        "        print(\"accept\")\n",
        "      self.accept += 1\n",
        "      self.E += dE\n",
        "      return\n",
        "    else:\n",
        "      if self.debug:\n",
        "        print(\"reject\")\n",
        "      self.pos[i] = oldP\n",
        "      self.reject += 1\n",
        "      self.E = oldE\n",
        "      return"
      ]
    },
    {
      "cell_type": "code",
      "source": [
        "def autocorr1D(array):\n",
        "  ft = numpy.fft.rfft(array - numpy.average(array))\n",
        "  acorr = numpy.fft.irfft(ft * numpy.conjugate(ft)) / (len(array) * numpy.var(array))\n",
        "  dt = numpy.where(acorr<0)[0][0]\n",
        "  nsamples = len(array)//dt\n",
        "  acorr = acorr[dt:nsamples]\n",
        "  #return acorr[0 : len(acorr) // 2]\n",
        "  return nsamples, dt\n"
      ],
      "metadata": {
        "id": "S9I9Vwa0HCxo"
      },
      "execution_count": 2,
      "outputs": []
    },
    {
      "cell_type": "code",
      "execution_count": null,
      "metadata": {
        "colab": {
          "base_uri": "https://localhost:8080/"
        },
        "id": "RC2dWqOZtpj6",
        "outputId": "fb0ab05e-0c8c-4936-ca68-cb43497c613c"
      },
      "outputs": [
        {
          "output_type": "stream",
          "name": "stdout",
          "text": [
            "3.9999999999999996\n"
          ]
        }
      ],
      "source": [
        "density = 0.5\n",
        "N = 32\n",
        "V = N/density\n",
        "L = V**(1/3)\n",
        "print(L)\n",
        "maxSteps = 10000\n",
        "s = simulation(N=N, L=L, maxSteps = maxSteps,debug=False,seed=23)\n",
        "print(\"{:02f} +/- {:02f}\".format(s.energies.mean()/N, s.energies.std()/N))"
      ]
    },
    {
      "cell_type": "code",
      "source": [
        "plt.plot(s.energies[0:]/N)\n",
        "plt.show()"
      ],
      "metadata": {
        "id": "KNhW_QabIMpS"
      },
      "execution_count": null,
      "outputs": []
    },
    {
      "cell_type": "code",
      "source": [
        "for start in range(0,10000,100):\n",
        "  print(start, autocorr1D(s.energies[start:]))\n"
      ],
      "metadata": {
        "id": "RRhU9EctIECz"
      },
      "execution_count": null,
      "outputs": []
    },
    {
      "cell_type": "code",
      "source": [
        "real_average = s.energies[4700::342].mean()/N\n",
        "real_std = s.energies[4700::342].std()/N\n",
        "print(real_average, real_std)"
      ],
      "metadata": {
        "id": "ayPtFMCxO4RL"
      },
      "execution_count": null,
      "outputs": []
    },
    {
      "cell_type": "code",
      "source": [
        "ns,dt = autocorr1D(s.energies[4700:])\n",
        "print(ns,dt)"
      ],
      "metadata": {
        "id": "qUo5OrnjPE3E"
      },
      "execution_count": null,
      "outputs": []
    },
    {
      "cell_type": "code",
      "execution_count": null,
      "metadata": {
        "id": "5rV01rK70Jl8"
      },
      "outputs": [],
      "source": [
        "start = 5000\n",
        "steps = 100\n",
        "plt.plot(range(start,start+steps),s.energies[start:start+steps]/N)\n",
        "plt.show()\n",
        "print(\"N={}, AverageE: {:.2f}\".format(N,s.energies[maxSteps//2:].mean()/N))\n",
        "# per particle around -4.25 with  N=32, density .7, L=3.57, 10k maxSteps\n",
        "# per particle around -3.91 with  N=20, density .7, L=3.057, 10k maxSteps\n",
        "# per particle around  with  N=28, density .7, L=3.057, 10k maxSteps\n"
      ]
    },
    {
      "cell_type": "code",
      "execution_count": null,
      "metadata": {
        "id": "S2fqpuxKZdQD"
      },
      "outputs": [],
      "source": [
        "for N in range(20,51,5):\n",
        "  density = 0.5\n",
        "  V = N/density\n",
        "  L = V**(1/3)\n",
        "  maxSteps = 10000\n",
        "  s = simulation(N=N, L=L, maxSteps = maxSteps,debug=False)\n",
        "  print(\"N={}, AverageE: {:.2f}\".format(N,s.energies[maxSteps//2:].mean()/N))"
      ]
    },
    {
      "cell_type": "code",
      "execution_count": null,
      "metadata": {
        "id": "CGzvH_yB5zFV"
      },
      "outputs": [],
      "source": [
        "import time\n",
        "for N in range(20,51,5):\n",
        "    density = 0.7\n",
        "    V = N/density\n",
        "    L = V**(1/3)\n",
        "    maxSteps = 10000\n",
        "    t1 = time.perf_counter()\n",
        "    s = simulation(N=N, L=L, maxSteps = maxSteps,debug=False)\n",
        "    t2 = time.perf_counter()\n",
        "    print(\"\\nN=\",N,\"; {:.2f} seconds/sim\".format(t2-t1))\n",
        "    print(\"N={}, AverageE: {:.2f}\".format(N,s.energies[maxSteps//2:].mean()/N))"
      ]
    }
  ],
  "metadata": {
    "colab": {
      "provenance": [],
      "include_colab_link": true
    },
    "kernelspec": {
      "display_name": "Python 3 (ipykernel)",
      "language": "python",
      "name": "python3"
    },
    "language_info": {
      "codemirror_mode": {
        "name": "ipython",
        "version": 3
      },
      "file_extension": ".py",
      "mimetype": "text/x-python",
      "name": "python",
      "nbconvert_exporter": "python",
      "pygments_lexer": "ipython3",
      "version": "3.11.0"
    }
  },
  "nbformat": 4,
  "nbformat_minor": 0
}