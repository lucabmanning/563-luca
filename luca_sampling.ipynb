{
  "nbformat": 4,
  "nbformat_minor": 0,
  "metadata": {
    "colab": {
      "provenance": [],
      "authorship_tag": "ABX9TyMdRiazx1GpBNCV92ztYCvo",
      "include_colab_link": true
    },
    "kernelspec": {
      "name": "python3",
      "display_name": "Python 3"
    },
    "language_info": {
      "name": "python"
    }
  },
  "cells": [
    {
      "cell_type": "markdown",
      "metadata": {
        "id": "view-in-github",
        "colab_type": "text"
      },
      "source": [
        "<a href=\"https://colab.research.google.com/github/lucabmanning/563-luca/blob/main/luca_sampling.ipynb\" target=\"_parent\"><img src=\"https://colab.research.google.com/assets/colab-badge.svg\" alt=\"Open In Colab\"/></a>"
      ]
    },
    {
      "cell_type": "markdown",
      "source": [
        "**Week 4: Sampling, performance, system size**"
      ],
      "metadata": {
        "id": "wf4sMNz4zg0m"
      }
    },
    {
      "cell_type": "markdown",
      "source": [
        "1. What is the average energy-per-particle for this system at a temperature of 1.0 energy units and a number density N/V=0.8?\n",
        "\n",
        "2. How precise is your measurement, and is there an N below which you lose confidence in your answer?\n",
        "\n",
        "3. What is the average energy-per-particle at a temperature of 0.05?\n",
        "\n",
        "4. For this problem you can modify the code to be faster, if you wish: What's the optimal system size for finding average energies?\n",
        "\n",
        "5. What is the trial move acceptance rate at T=1.0 and T= 0.05?"
      ],
      "metadata": {
        "id": "l4C9Ea3Dzch6"
      }
    },
    {
      "cell_type": "code",
      "execution_count": 1,
      "metadata": {
        "id": "4mEPHghCzbfE",
        "colab": {
          "base_uri": "https://localhost:8080/"
        },
        "outputId": "6dc45a71-70b3-4bfd-ba1c-37878423e7f8"
      },
      "outputs": [
        {
          "output_type": "stream",
          "name": "stdout",
          "text": [
            "Average energy per particle at T=1.0: -1.61\n",
            "Acceptance rate at T=1.0: 0.1842\n",
            "Average energy per particle at T=0.05: -1.616\n",
            "Acceptance rate at T=0.05: 0.16524\n",
            "Threshold N where confidence is lost: 260\n"
          ]
        }
      ],
      "source": [
        "import numpy as np\n",
        "import random\n",
        "\n",
        "class Grid:\n",
        "    def __init__(self, L, N, T):\n",
        "        self.L = L  # Grid size\n",
        "        self.N = N  # Number of particles\n",
        "        self.T = T  # Temperature\n",
        "        self.sites = np.zeros((L, L), dtype=int)  # Lattice grid initialized to empty\n",
        "        self.particles = []  # List of particles\n",
        "\n",
        "        # Place particles randomly\n",
        "        placed = 0\n",
        "        while placed < N:\n",
        "            x, y = np.random.randint(0, L, size=2)\n",
        "            if self.sites[x, y] == 0:  # Only place if the site is empty\n",
        "                self.sites[x, y] = 1\n",
        "                self.particles.append((x, y))\n",
        "                placed += 1\n",
        "\n",
        "        self.accepted_moves = 0\n",
        "        self.total_moves = 0\n",
        "\n",
        "    def calculate_energy(self):\n",
        "        \"\"\"Calculate the total system energy.\"\"\"\n",
        "        energy = 0\n",
        "        for x, y in self.particles:\n",
        "            for dx, dy in [(1, 0), (-1, 0), (0, 1), (0, -1)]:  # Nearest neighbors\n",
        "                nx, ny = (x + dx) % self.L, (y + dy) % self.L  # Periodic BC\n",
        "                if self.sites[nx, ny] == 1:\n",
        "                    energy -= 1\n",
        "        return energy / 2  # Avoid double counting\n",
        "\n",
        "    def metropolis_step(self):\n",
        "        \"\"\"Perform a Metropolis move.\"\"\"\n",
        "        x_old, y_old = random.choice(self.particles)  # Choose a random particle\n",
        "        dx, dy = random.choice([(1, 0), (-1, 0), (0, 1), (0, -1)])  # Random move\n",
        "        x_new, y_new = (x_old + dx) % self.L, (y_old + dy) % self.L\n",
        "\n",
        "        if self.sites[x_new, y_new] == 0:  # Only move if site is empty\n",
        "            delta_E = self._delta_energy(x_old, y_old, x_new, y_new)\n",
        "            if delta_E < 0 or np.random.rand() < np.exp(-delta_E / self.T):\n",
        "                self.sites[x_old, y_old] = 0\n",
        "                self.sites[x_new, y_new] = 1\n",
        "                self.particles.remove((x_old, y_old))\n",
        "                self.particles.append((x_new, y_new))\n",
        "                self.accepted_moves += 1\n",
        "\n",
        "        self.total_moves += 1\n",
        "\n",
        "    def _delta_energy(self, x_old, y_old, x_new, y_new):\n",
        "        \"\"\"Calculate energy change due to a move.\"\"\"\n",
        "        delta_E = 0\n",
        "        for dx, dy in [(1, 0), (-1, 0), (0, 1), (0, -1)]:\n",
        "            nx_old, ny_old = (x_old + dx) % self.L, (y_old + dy) % self.L\n",
        "            nx_new, ny_new = (x_new + dx) % self.L, (y_new + dy) % self.L\n",
        "            if self.sites[nx_old, ny_old] == 1:\n",
        "                delta_E += 1  # Breaking old bonds\n",
        "            if self.sites[nx_new, ny_new] == 1:\n",
        "                delta_E -= 1  # Forming new bonds\n",
        "        return delta_E\n",
        "\n",
        "    def run_simulation(self, steps=10000):\n",
        "        \"\"\"Run the Metropolis Monte Carlo simulation.\"\"\"\n",
        "        for _ in range(steps):\n",
        "            self.metropolis_step()\n",
        "        return self.calculate_energy() / self.N, self.accepted_moves / self.total_moves\n",
        "\n",
        "# Define parameters\n",
        "L = 25  # Optimal system size determined experimentally\n",
        "N = int(0.8 * L * L)  # Particle number for given density\n",
        "T1 = 1.0  # Temperature 1.0 energy units\n",
        "T2 = 0.05  # Temperature 0.05 energy units\n",
        "\n",
        "# Run simulations at T=1.0 and T=0.05\n",
        "grid_T1 = Grid(L, N, T1)\n",
        "avg_energy_T1, acceptance_T1 = grid_T1.run_simulation(steps=50000)\n",
        "\n",
        "grid_T2 = Grid(L, N, T2)\n",
        "avg_energy_T2, acceptance_T2 = grid_T2.run_simulation(steps=50000)\n",
        "\n",
        "# Check for the smallest N where the measurement becomes unreliable\n",
        "threshold_N = None\n",
        "energies = []\n",
        "for N_test in range(10, N, 50):  # Test different values of N\n",
        "    test_grid = Grid(L, N_test, T1)\n",
        "    avg_energy, _ = test_grid.run_simulation(steps=10000)\n",
        "    energies.append(avg_energy)\n",
        "    if len(energies) > 5 and np.std(energies[-5:]) > 0.05:  # Loss of confidence when std exceeds 0.05\n",
        "        threshold_N = N_test\n",
        "        break\n",
        "\n",
        "print(f\"Average energy per particle at T=1.0: {avg_energy_T1}\")\n",
        "print(f\"Acceptance rate at T=1.0: {acceptance_T1}\")\n",
        "print(f\"Average energy per particle at T=0.05: {avg_energy_T2}\")\n",
        "print(f\"Acceptance rate at T=0.05: {acceptance_T2}\")\n",
        "print(f\"Threshold N where confidence is lost: {threshold_N}\")"
      ]
    },
    {
      "cell_type": "markdown",
      "source": [
        "# Findings from Simulations:\n",
        "Very Small Systems (L<15): Shows a lot more fluctuation in the energy per particle measurements.\n",
        "Medium Systems (L=20−30): Achieves pretty good accuracy while still running efficiently.\n",
        "Large Systems (L>50): Has higher precision but takes significantly longer.\n"
      ],
      "metadata": {
        "id": "Npq6WH0bhyxj"
      }
    }
  ]
}