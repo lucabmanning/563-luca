{
  "cells": [
    {
      "cell_type": "markdown",
      "metadata": {
        "id": "view-in-github",
        "colab_type": "text"
      },
      "source": [
        "<a href=\"https://colab.research.google.com/github/lucabmanning/563-luca/blob/main/Luca_Project1_MC_Sampling.ipynb\" target=\"_parent\"><img src=\"https://colab.research.google.com/assets/colab-badge.svg\" alt=\"Open In Colab\"/></a>"
      ]
    },
    {
      "cell_type": "markdown",
      "metadata": {
        "id": "u7uA38A6_ny1"
      },
      "source": [
        "# Project 1: Monte Carlo sampling\n",
        "1. Pick a physical system you’re curious about:\n",
        "\n",
        "Water molecules equilibrate in solid and liquid phases. I have tried to write a notebook that you can change the temperature to induce certain phases of water molecules.\n",
        "2. Determine a representation of it that balances ease of implementation with probing its thermodynamics.\n",
        "\n",
        "I have made the code tunable to different temperatures and with different amounts of steps. I have also included a part where you can change the size of the containment of the molecules, which can effect how long it takes to equilibrate as well.\n",
        "3. Characterize your model’s performance:\n",
        "- How long does it take to equilibrate at extremes of state (high densities, low temperatures)?\n",
        "\n",
        "It seems to take the same amount of time for different temperatures for me, but when I increase the density making the box size 5x5x5 (smaller) instead of 10x10x10, for instance, it takes quite a bit longer to equilibriate (over a minute).\n",
        "- How small is too small? How big is too big?\n",
        "\n",
        "When steps > 20,000, it seems to perform accurately. Less than that doesn't equilibrate well. 100,000 steps takes 30 s, creating a better equillibration. More than that is probably too big.\n",
        "4. Contrast your system with an ideal gas:\n",
        "- How does the structure of your model vary with state, and how does it compare to particles with no interactions?\n",
        "\n",
        "The system I am attempting to model is the equilibration of water molecules. In the case of this system, there is a dipole moment in each of the water molecules, which differs from an ideal gas system.\n",
        "- Does the heat capacity of your system depend on state differently than an ideal gas?\n",
        "\n",
        "I tried to calculate the heat capacity of my system and I got very unreasonable numbers. I am working on debugging the output energy values and the heat capacity values so that they will be more accurate.\n",
        "- Can you derive or numerically determine an equation of state?\n",
        "\n",
        "\n",
        "5. Summarize where your model works well to give insight, where it breaks down, and any revelations that occurred while working towards 1-4.\n",
        "\n",
        "I think my model works well to actually run the simulation. It seems like I am able to run the system pretty quickly with thousands of steps. I need to debug some calculations so it will output accurate energy and heat capacity values. I will try to debug all these issues by Thursday 02/27/25."
      ]
    },
    {
      "cell_type": "code",
      "source": [
        "import numpy as np"
      ],
      "metadata": {
        "id": "agvwu_8ZTD8M"
      },
      "execution_count": 7,
      "outputs": []
    },
    {
      "cell_type": "code",
      "execution_count": 40,
      "metadata": {
        "colab": {
          "base_uri": "https://localhost:8080/",
          "height": 490
        },
        "id": "uXS0Je69F7yg",
        "outputId": "ae764b23-a1f1-4c19-fd85-e5f08d921dc9"
      },
      "outputs": [
        {
          "output_type": "display_data",
          "data": {
            "text/plain": [
              "<Figure size 640x480 with 1 Axes>"
            ],
            "image/png": "[encoded data removed]"
          },
          "metadata": {}
        },
        {
          "output_type": "stream",
          "name": "stdout",
          "text": [
            "Acceptance ratio: 0.008019000000001138\n"
          ]
        }
      ],
      "source": [
        "import numpy as np\n",
        "import matplotlib.pyplot as plt\n",
        "from scipy.spatial import cKDTree  # Fast neighbor search\n",
        "\n",
        "class WaterSystem:\n",
        "    \"\"\" Monte Carlo simulation of water molecules in a single phase (liquid or ice). \"\"\"\n",
        "    def __init__(self, N, L, T, epsilon, sigma, charge, steps, phase=\"liquid\"):\n",
        "        self.N = N  # Number of molecules\n",
        "        self.L = L  # Box size\n",
        "        self.T = T  # Temperature\n",
        "        self.epsilon = epsilon  # Lennard-Jones epsilon\n",
        "        self.sigma = sigma  # Lennard-Jones sigma\n",
        "        self.charge = charge  # Charge for Coulomb interactions\n",
        "        self.steps = steps  # Monte Carlo steps\n",
        "        self.phase = phase  # \"liquid\" or \"ice\"\n",
        "        self.initialize_positions()\n",
        "        self.energy = self.calculate_energy()\n",
        "\n",
        "    def initialize_positions(self):\n",
        "        \"\"\" Initializes molecule positions based on phase (ice or liquid). \"\"\"\n",
        "        if self.phase == \"ice\":\n",
        "            # Arrange molecules in a cubic lattice for ice\n",
        "            side = int(np.ceil(self.N ** (1/3)))  # Cube root for grid size\n",
        "            grid_spacing = self.L / side\n",
        "            self.positions = np.array([[x, y, z] for x in np.linspace(0, self.L, side, endpoint=False)\n",
        "                                                     for y in np.linspace(0, self.L, side, endpoint=False)\n",
        "                                                     for z in np.linspace(0, self.L, side, endpoint=False)])[:self.N]\n",
        "        else:\n",
        "            # Random distribution for liquid water\n",
        "            self.positions = np.random.rand(self.N, 3) * self.L\n",
        "\n",
        "    def lennard_jones_potential(self, r):\n",
        "        \"\"\" Vectorized Lennard-Jones potential calculation. \"\"\"\n",
        "        r6 = (self.sigma / r) ** 6\n",
        "        return 4 * self.epsilon * (r6 ** 2 - r6)\n",
        "\n",
        "    def coulomb_potential(self, r):\n",
        "        \"\"\" Vectorized Coulombic potential calculation. \"\"\"\n",
        "        k = 8.9875e9  # Coulomb's constant\n",
        "        return k * (self.charge ** 2) / r\n",
        "\n",
        "    def calculate_energy(self):\n",
        "        \"\"\" Computes total energy using a neighbor list for efficiency. \"\"\"\n",
        "        tree = cKDTree(self.positions, boxsize=self.L)\n",
        "        pairs = tree.query_pairs(3 * self.sigma, output_type=\"ndarray\")  # Neighbor cutoff at 3*sigma\n",
        "        r = np.linalg.norm(self.positions[pairs[:, 0]] - self.positions[pairs[:, 1]], axis=1)\n",
        "        r = np.where(r == 0, 1e-6, r)  # Avoid division by zero\n",
        "        return np.sum(self.lennard_jones_potential(r) + self.coulomb_potential(r))\n",
        "\n",
        "\n",
        "\n",
        "    def metropolis_move(self):\n",
        "        \"\"\" Optimized Metropolis move with vectorized calculations. \"\"\"\n",
        "        i = np.random.randint(self.N)\n",
        "        old_pos = self.positions[i].copy()\n",
        "\n",
        "        # Controlled step size\n",
        "        delta_r = (np.random.rand(3) - 0.5) * (0.1 if self.phase == \"ice\" else 1.0)\n",
        "        self.positions[i] = (self.positions[i] + delta_r) % self.L  # PBC\n",
        "\n",
        "        old_energy = self.energy\n",
        "        self.energy = self.calculate_energy()\n",
        "        dE = self.energy - old_energy\n",
        "\n",
        "        # Metropolis acceptance criteria\n",
        "        if dE > 0 and np.random.rand() > np.exp(-dE / self.T):\n",
        "            self.positions[i] = old_pos  # Reject move\n",
        "            self.energy = old_energy\n",
        "            return False\n",
        "        return True\n",
        "\n",
        "    def run_simulation(self):\n",
        "        \"\"\" Runs the optimized Monte Carlo simulation. \"\"\"\n",
        "        accepted_moves = 0\n",
        "        energy_values = []\n",
        "\n",
        "        for step in range(self.steps):\n",
        "            if self.metropolis_move():\n",
        "                accepted_moves += 0.1\n",
        "            energy_values.append(self.energy)\n",
        "\n",
        "        acceptance_ratio = accepted_moves / self.steps\n",
        "        return acceptance_ratio, energy_values\n",
        "\n",
        "class grid: # Defining a placeholder Grid class\n",
        "    def __init__(self, N, L, T):\n",
        "        self.N = N\n",
        "        self.L = L\n",
        "        self.T = T\n",
        "        self.E = 50000  # Initial energy, adjust as needed\n",
        "        self.sites = np.zeros((N, N))  # Example grid, modify as needed\n",
        "\n",
        "class simulation():\n",
        "    def __init__(self,N=5,L=3,T=1.,steps = 100000,seed=2,debug=False):\n",
        "        np.random.seed(seed) # Use np instead of numpy here\n",
        "        self.grid = grid(N,L,T)\n",
        "        self.accepted = 0\n",
        "        self.rejected = 0\n",
        "        self.energies = np.zeros(steps)\n",
        "        for i in range(steps):\n",
        "            self.trial_move()\n",
        "            self.energies[i] = self.grid.E/N\n",
        "            if debug:\n",
        "                print(\"E:\", self.grid.E)\n",
        "                print(self.grid.sites)\n",
        "\n",
        "def main():\n",
        "    N = 50 # Number of molecules\n",
        "    L = 10  # Box size\n",
        "    T = 250.0  # Temperature\n",
        "    epsilon = 1.0  # Lennard-Jones parameter\n",
        "    sigma = 1.0  # Lennard-Jones parameter\n",
        "    charge = 0.3  # Partial charge of water molecules\n",
        "    steps = 100000  # Monte Carlo steps\n",
        "    phase = \"ice\"  # Change to \"liquid\" for water phase\n",
        "\n",
        "    system = WaterSystem(N, L, T, epsilon, sigma, charge, steps, phase)\n",
        "\n",
        "    # Run simulation\n",
        "    acceptance_ratio, energy_values = system.run_simulation()\n",
        "\n",
        "    # Plot energy evolution\n",
        "    plt.plot(energy_values)\n",
        "    plt.xlabel('Monte Carlo Steps')\n",
        "    plt.ylabel('Energy')\n",
        "    plt.title(f'Energy Evolution in {phase.capitalize()} Water Simulation')\n",
        "    plt.show()\n",
        "    # Print acceptance ratio\n",
        "    print(f\"Acceptance ratio: {acceptance_ratio}\")\n",
        "\n",
        "if __name__ == \"__main__\":\n",
        "    main()"
      ]
    },
    {
      "cell_type": "code",
      "source": [
        "def compute_equilibration_time(energy_values):\n",
        "    \"\"\"Estimate equilibration time as the point where energy stabilizes.\"\"\"\n",
        "    window = len(energy_values) // 10  # Use last 10% of data to define equilibrium\n",
        "    rolling_avg = np.convolve(energy_values, np.ones(window)/window, mode='valid')\n",
        "\n",
        "    equilibration_index = np.argmax(np.abs(np.diff(rolling_avg)) < 1e-3)  # Small change threshold\n",
        "    return equilibration_index"
      ],
      "metadata": {
        "id": "U64Yghv4VqUt"
      },
      "execution_count": 46,
      "outputs": []
    },
    {
      "cell_type": "code",
      "source": [
        "import numpy as np\n",
        "import matplotlib.pyplot as plt\n",
        "def main():\n",
        "    N = 50 # Number of molecules\n",
        "    L = 10  # Box size\n",
        "    T = 250.0  # Temperature\n",
        "    epsilon = 1.0  # Lennard-Jones parameter\n",
        "    sigma = 1.0  # Lennard-Jones parameter\n",
        "    charge = 0.3  # Partial charge of water molecules\n",
        "    steps = 100000  # Monte Carlo steps\n",
        "    phase = \"ice\"  # Change to \"liquid\" for water phase\n",
        "\n",
        "    system = WaterSystem(N, L, T, epsilon, sigma, charge, steps, phase)\n",
        "\n",
        "    # Run simulation\n",
        "    acceptance_ratio, energy_values = system.run_simulation()\n",
        "    equilibration_step = compute_equilibration_time(energy_values)\n",
        "    print(f\"Estimated equilibration time: {equilibration_step} Monte Carlo steps\")\n",
        "\n",
        "    # Plot energy evolution with equilibration point\n",
        "    plt.plot(energy_values, label=\"Energy\")\n",
        "    plt.axvline(equilibration_step, color=\"r\", linestyle=\"--\", label=\"Equilibration Time\")\n",
        "    plt.xlabel('Monte Carlo Steps')\n",
        "    plt.ylabel('Energy')\n",
        "    plt.title(f'Energy Evolution in {phase.capitalize()} Water Simulation')\n",
        "    plt.legend()\n",
        "    plt.plot()\n"
      ],
      "metadata": {
        "id": "uk6vJukqY3Ae"
      },
      "execution_count": 63,
      "outputs": []
    },
    {
      "cell_type": "code",
      "source": [
        "import numpy as np\n",
        "import matplotlib.pyplot as plt\n",
        "from scipy.spatial import cKDTree  # Fast neighbor search\n",
        "\n",
        "# ... (rest of your WaterSystem, grid, and simulation class definitions) ...\n",
        "\n",
        "def main():\n",
        "    N = 50 # Number of molecules\n",
        "    L = 10  # Box size\n",
        "    T = 250.0  # Temperature\n",
        "    epsilon = 1.0  # Lennard-Jones parameter\n",
        "    sigma = 1.0  # Lennard-Jones parameter\n",
        "    charge = 0.3  # Partial charge of water molecules\n",
        "    steps = 100000  # Monte Carlo steps\n",
        "    phase = \"ice\"  # Change to \"liquid\" for water phase\n",
        "\n",
        "    system = WaterSystem(N, L, T, epsilon, sigma, charge, steps, phase)\n",
        "\n",
        "    # Run simulation\n",
        "    acceptance_ratio, energy_values = system.run_simulation()\n",
        "\n",
        "    # Plot energy evolution\n",
        "    plt.plot(energy_values)\n",
        "    plt.xlabel('Monte Carlo Steps')\n",
        "    plt.ylabel('Energy')\n",
        "    plt.title(f'Energy Evolution in {phase.capitalize()} Water Simulation')\n",
        "    plt.show()\n",
        "    # Print acceptance ratio\n",
        "    print(f\"Acceptance ratio: {acceptance_ratio}\")\n",
        "\n",
        "if __name__ == \"__main__\":\n",
        "    main()"
      ],
      "metadata": {
        "colab": {
          "base_uri": "https://localhost:8080/",
          "height": 490
        },
        "id": "KklOpMBlXooW",
        "outputId": "3f744011-bdde-449e-b278-093322512949"
      },
      "execution_count": 39,
      "outputs": [
        {
          "output_type": "display_data",
          "data": {
            "text/plain": [
              "<Figure size 640x480 with 1 Axes>"
            ],
            "image/png": "[encoded data removed]"
          },
          "metadata": {}
        },
        {
          "output_type": "stream",
          "name": "stdout",
          "text": [
            "Acceptance ratio: 0.0062290000000007305\n"
          ]
        }
      ]
    },
    {
      "cell_type": "code",
      "execution_count": 18,
      "metadata": {
        "colab": {
          "base_uri": "https://localhost:8080/"
        },
        "id": "bwXi7xsME1-L",
        "outputId": "127c805b-e737-4884-baf9-17438a5847d6"
      },
      "outputs": [
        {
          "output_type": "stream",
          "name": "stdout",
          "text": [
            "N=50, AverageE: 20.00\n",
            "N=50, AverageE: 20.00\n",
            "N=50, AverageE: 20.00\n",
            "N=50, AverageE: 20.00\n",
            "N=50, AverageE: 20.00\n",
            "N=50, AverageE: 20.00\n",
            "N=50, AverageE: 20.00\n"
          ]
        }
      ],
      "source": [
        "import numpy as np\n",
        "for N in range(20,51,5):\n",
        "  density = 0.5\n",
        "  N = 50 # Number of molecules\n",
        "  V = N/density\n",
        "  L = V**(1/3)\n",
        "  steps = 10000\n",
        "  s = simulation(N=N, L=L, steps = steps,debug=False)\n",
        "  print(\"N={}, AverageE: {:.2f}\".format(N,s.energies[steps//2:].mean()/N))"
      ]
    },
    {
      "cell_type": "code",
      "execution_count": 19,
      "metadata": {
        "id": "e8-l0qah05pU"
      },
      "outputs": [],
      "source": [
        "import numpy as np # Add this import at the beginning of the file\n",
        "import matplotlib.pyplot as plt\n",
        "from scipy.spatial import cKDTree  # Fast neighbor search\n",
        "\n",
        "# Assume a simple Grid class for demonstration\n",
        "class Grid: # Defining a placeholder Grid class\n",
        "    def __init__(self, N, L, T):\n",
        "        self.N = N\n",
        "        self.L = L\n",
        "        self.T = T\n",
        "        self.E = 50000  # Initial energy, adjust as needed\n",
        "        self.sites = np.zeros((N, N))  # Example grid, modify as needed\n",
        "\n",
        "\n",
        "class simulation():\n",
        "    def __init__(self,N=50,L=10,T=1.,steps = 1000,seed=2,debug=False):\n",
        "        np.random.seed(seed) # Use np instead of numpy here\n",
        "        self.grid = Grid(N,L,T) # Use the Grid class we defined\n",
        "        self.accepted = 0\n",
        "        self.rejected = 0\n",
        "        self.energies = np.zeros(steps) # Use np instead of numpy here as well\n",
        "        for i in range(steps):\n",
        "            self.trial_move() # Make sure trial_move is defined in your 'simulation' class\n",
        "            self.energies[i] = self.grid.E/N\n",
        "            if debug:\n",
        "                print(\"E:\", self.grid.E)\n",
        "                print(self.grid.sites)\n",
        "\n",
        "    def trial_move(self): # Placeholder for trial_move method\n",
        "        pass # Replace with actual logic for trial move"
      ]
    },
    {
      "cell_type": "code",
      "execution_count": 20,
      "metadata": {
        "colab": {
          "base_uri": "https://localhost:8080/"
        },
        "id": "N02ubQ2D9ofg",
        "outputId": "571ae4ca-9cc0-4a59-cf6a-03e01f7f7157"
      },
      "outputs": [
        {
          "output_type": "stream",
          "name": "stdout",
          "text": [
            "5.848035476425731\n"
          ]
        }
      ],
      "source": [
        "density = 0.5\n",
        "N = 100\n",
        "V = N/density\n",
        "L = V**(1/3)\n",
        "print(L)\n",
        "steps = 100000\n",
        "s = simulation(N=N, L=L, steps = steps,debug=False)\n",
        "# print(\"{0.02f}+/-{0.02f}\"/format(s.energies.mean()/N, s.energies.std()/N, s.energies.std()/N))"
      ]
    },
    {
      "cell_type": "code",
      "execution_count": 21,
      "metadata": {
        "colab": {
          "base_uri": "https://localhost:8080/"
        },
        "id": "eUp-tOlF90gQ",
        "outputId": "246cdf82-3788-45de-9f18-6e97bc94e4a5"
      },
      "outputs": [
        {
          "output_type": "stream",
          "name": "stdout",
          "text": [
            "5.000000+/-0.000000\n"
          ]
        }
      ],
      "source": [
        "print(\"{:02f}+/-{:02f}\".format(s.energies.mean()/N, s.energies.std()/N))"
      ]
    },
    {
      "cell_type": "code",
      "execution_count": 22,
      "metadata": {
        "colab": {
          "base_uri": "https://localhost:8080/"
        },
        "id": "IBbQw-PL6eKO",
        "outputId": "c4347094-bd66-4302-d331-ea8ea30158dd"
      },
      "outputs": [
        {
          "output_type": "stream",
          "name": "stdout",
          "text": [
            "N=20.000000, AverageE: 125.000000\n",
            "N=30.000000, AverageE: 55.555556\n",
            "N=40.000000, AverageE: 31.250000\n",
            "N=50.000000, AverageE: 20.000000\n",
            "N=60.000000, AverageE: 13.888889\n",
            "N=70.000000, AverageE: 10.204082\n",
            "N=80.000000, AverageE: 7.812500\n",
            "N=90.000000, AverageE: 6.172840\n",
            "N=100.000000, AverageE: 5.000000\n"
          ]
        }
      ],
      "source": [
        "for N in range(20,101,10):\n",
        "  density = 0.5\n",
        "  V = N/density\n",
        "  L = V**(1/3)\n",
        "  steps = 1000\n",
        "  s = simulation(N=N, L=L, steps = steps,debug=False)\n",
        "  print(\"N={:02f}, AverageE: {:02f}\".format(N,s.energies[steps//2:].mean()/N))"
      ]
    },
    {
      "cell_type": "code",
      "execution_count": 23,
      "metadata": {
        "colab": {
          "base_uri": "https://localhost:8080/"
        },
        "id": "XUE5UrCNzNHz",
        "outputId": "bed1b8f2-4ab1-4905-814e-196cdb005ec0"
      },
      "outputs": [
        {
          "output_type": "stream",
          "name": "stdout",
          "text": [
            "\n",
            "N= 100 ; 0.02 seconds/sim\n",
            "N= 100 average E: 500.00 +/- 0.00\n",
            "\n",
            "N= 100 ; 0.02 seconds/sim\n",
            "N= 100 average E: 500.00 +/- 0.00\n",
            "\n",
            "N= 100 ; 0.02 seconds/sim\n",
            "N= 100 average E: 500.00 +/- 0.00\n"
          ]
        }
      ],
      "source": [
        "import numpy as np # Add import statement\n",
        "import time\n",
        "answers = []\n",
        "nsteps = 100000\n",
        "for L in [50, 100, 200]:\n",
        "  N = N\n",
        "  t1 = time.perf_counter()\n",
        "  s = simulation(N=N,L=L,T=1.0,steps=nsteps, seed = np.random.randint(100000))\n",
        "  t2 = time.perf_counter()\n",
        "  print(\"\\nN=\",N,\"; {:.2f} seconds/sim\".format(t2-t1))\n",
        "  answers.append( (s.energies.mean(), s.energies.std()))\n",
        "  print(\"N=\",N,\"average E: {:.2f} +/- {:.2f}\" .format( answers[-1][0],answers[-1][1]))\n"
      ]
    },
    {
      "cell_type": "code",
      "execution_count": 24,
      "metadata": {
        "colab": {
          "base_uri": "https://localhost:8080/",
          "height": 490
        },
        "id": "hWbXXKDYIPcv",
        "outputId": "6f170b26-1906-4996-a2a7-a0f6cbfd8422"
      },
      "outputs": [
        {
          "output_type": "display_data",
          "data": {
            "text/plain": [
              "<Figure size 640x480 with 1 Axes>"
            ],
            "image/png": "[encoded data removed]"
          },
          "metadata": {}
        },
        {
          "output_type": "stream",
          "name": "stdout",
          "text": [
            "Acceptance ratio: 0.0009679999999999878\n"
          ]
        }
      ],
      "source": [
        "import numpy as np\n",
        "import matplotlib.pyplot as plt\n",
        "from scipy.spatial import cKDTree  # Fast neighbor search\n",
        "\n",
        "class WaterSystem:\n",
        "    \"\"\" Monte Carlo simulation of water molecules in a single phase (liquid or ice). \"\"\"\n",
        "    def __init__(self, N, L, T, epsilon, sigma, charge, steps, phase=\"liquid\"):\n",
        "        self.N = N  # Number of molecules\n",
        "        self.L = L  # Box size\n",
        "        self.T = T  # Temperature\n",
        "        self.epsilon = epsilon  # Lennard-Jones epsilon\n",
        "        self.sigma = sigma  # Lennard-Jones sigma\n",
        "        self.charge = charge  # Charge for Coulomb interactions\n",
        "        self.steps = steps  # Monte Carlo steps\n",
        "        self.phase = phase  # \"liquid\" or \"ice\"\n",
        "        self.initialize_positions()\n",
        "        self.energy = self.calculate_energy()\n",
        "\n",
        "    def initialize_positions(self):\n",
        "        \"\"\" Initializes molecule positions based on phase (ice or liquid). \"\"\"\n",
        "        if self.phase == \"ice\":\n",
        "            # Arrange molecules in a cubic lattice for ice\n",
        "            side = int(np.ceil(self.N ** (1/3)))  # Cube root for grid size\n",
        "            grid_spacing = self.L / side\n",
        "            self.positions = np.array([[x, y, z] for x in np.linspace(0, self.L, side, endpoint=False)\n",
        "                                                     for y in np.linspace(0, self.L, side, endpoint=False)\n",
        "                                                     for z in np.linspace(0, self.L, side, endpoint=False)])[:self.N]\n",
        "        else:\n",
        "            # Random distribution for liquid water\n",
        "            self.positions = np.random.rand(self.N, 3) * self.L\n",
        "\n",
        "    def lennard_jones_potential(self, r):\n",
        "        \"\"\" Vectorized Lennard-Jones potential calculation. \"\"\"\n",
        "        r6 = (self.sigma / r) ** 6\n",
        "        return 4 * self.epsilon * (r6 ** 2 - r6)\n",
        "\n",
        "    def coulomb_potential(self, r):\n",
        "        \"\"\" Vectorized Coulombic potential calculation. \"\"\"\n",
        "        k = 8.9875e9  # Coulomb's constant\n",
        "        return k * (self.charge ** 2) / r\n",
        "\n",
        "    def calculate_energy(self):\n",
        "        \"\"\" Computes total energy using a neighbor list for efficiency. \"\"\"\n",
        "        tree = cKDTree(self.positions, boxsize=self.L)\n",
        "        pairs = tree.query_pairs(3 * self.sigma, output_type=\"ndarray\")  # Neighbor cutoff at 3*sigma\n",
        "        r = np.linalg.norm(self.positions[pairs[:, 0]] - self.positions[pairs[:, 1]], axis=1)\n",
        "        r = np.where(r == 0, 1e-6, r)  # Avoid division by zero\n",
        "        return np.sum(self.lennard_jones_potential(r) + self.coulomb_potential(r))\n",
        "\n",
        "    def metropolis_move(self):\n",
        "        \"\"\" Optimized Metropolis move with vectorized calculations. \"\"\"\n",
        "        i = np.random.randint(self.N)\n",
        "        old_pos = self.positions[i].copy()\n",
        "\n",
        "        # Controlled step size\n",
        "        delta_r = (np.random.rand(3) - 0.5) * (0.1 if self.phase == \"ice\" else 1.0)\n",
        "        self.positions[i] = (self.positions[i] + delta_r) % self.L  # PBC\n",
        "\n",
        "        old_energy = self.energy\n",
        "        self.energy = self.calculate_energy()\n",
        "        dE = self.energy - old_energy\n",
        "\n",
        "        # Metropolis acceptance criteria\n",
        "        if dE > 0 and np.random.rand() > np.exp(-dE / self.T):\n",
        "            self.positions[i] = old_pos  # Reject move\n",
        "            self.energy = old_energy\n",
        "            return False\n",
        "        return True\n",
        "\n",
        "    def run_simulation(self):\n",
        "        \"\"\" Runs the optimized Monte Carlo simulation. \"\"\"\n",
        "        accepted_moves = 0\n",
        "        energy_values = []\n",
        "\n",
        "        for step in range(self.steps):\n",
        "            if self.metropolis_move():\n",
        "                accepted_moves += 0.1\n",
        "            energy_values.append(self.energy)\n",
        "\n",
        "        acceptance_ratio = accepted_moves / self.steps\n",
        "        return acceptance_ratio, energy_values\n",
        "\n",
        "def main():\n",
        "    N = 100  # Number of molecules\n",
        "    L = 10.0  # Box size\n",
        "    T = 280.0  # Temperature\n",
        "    epsilon = 1.0  # Lennard-Jones parameter\n",
        "    sigma = 1.0  # Lennard-Jones parameter\n",
        "    charge = 0.3  # Partial charge of water molecules\n",
        "    steps = 100000  # Monte Carlo steps\n",
        "    phase = \"liquid\"\n",
        "\n",
        "    system = WaterSystem(N, L, T, epsilon, sigma, charge, steps, phase)\n",
        "\n",
        "    # Run simulation\n",
        "    acceptance_ratio, energy_values = system.run_simulation()\n",
        "\n",
        "    # Plot energy evolution\n",
        "    plt.plot(energy_values)\n",
        "    plt.xlabel('Monte Carlo Steps')\n",
        "    plt.ylabel('Energy')\n",
        "    plt.title(f'Energy Evolution in {phase.capitalize()} Water Simulation')\n",
        "    plt.show()\n",
        "\n",
        "    # Print acceptance ratio\n",
        "    print(f\"Acceptance ratio: {acceptance_ratio}\")\n",
        "\n",
        "if __name__ == \"__main__\":\n",
        "    main()\n"
      ]
    }
  ],
  "metadata": {
    "colab": {
      "provenance": [],
      "authorship_tag": "ABX9TyNmBopKDd3+yF+mOy9aJgJU",
      "include_colab_link": true
    },
    "kernelspec": {
      "display_name": "Python 3",
      "name": "python3"
    },
    "language_info": {
      "name": "python"
    }
  },
  "nbformat": 4,
  "nbformat_minor": 0
}